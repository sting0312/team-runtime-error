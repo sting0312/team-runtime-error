{
 "cells": [
  {
   "cell_type": "markdown",
   "metadata": {},
   "source": [
    "### *****Make sure to change the .csv file name in two places before running.*****\n",
    "### Look for: # <-------------Change to: df_<Your File #>"
   ]
  },
  {
   "cell_type": "code",
   "execution_count": null,
   "metadata": {},
   "outputs": [],
   "source": [
    "#Import packages\n",
    "import pandas as pd\n",
    "import requests\n",
    "import json\n",
    "import numpy as np\n",
    "import time\n",
    "import gmaps\n",
    "\n",
    "from config import (mqkey, gkey) "
   ]
  },
  {
   "cell_type": "code",
   "execution_count": null,
   "metadata": {},
   "outputs": [],
   "source": [
    "#load crash data\n",
    "#file_path = 'Resources/CRASH DATA SET'\n",
    "\n",
    "#crash_csv = pd.read_csv(file_path)\n",
    "\n",
    "#place_holder_df = pd.DataFrame()"
   ]
  },
  {
   "cell_type": "code",
   "execution_count": null,
   "metadata": {},
   "outputs": [],
   "source": [
    "#set list of lat lng to feed into google\n",
    "\n",
    "#lat = df['Start_lat']\n",
    "#lng = df['Start_lng']\n",
    "\n",
    "#for row in crash_csv:\n",
    "    #lat = df['Start_lat']\n",
    "    #lng = df['Start_lng']\n",
    "    #google_path = f'{lat},{lng}'\n",
    "    #params = {'Key': gkey,\n",
    "         #'Path' : google_path}\n",
    "    #base_url = 'https://roads.googleapis.com/v1/speedLimits?'\n",
    "\n",
    "    #response = requests.get(base_url, params=params)\n",
    "    \n",
    "    #roads_data = response.json()\n",
    "    \n",
    "    \n",
    "    "
   ]
  },
  {
   "cell_type": "code",
   "execution_count": null,
   "metadata": {},
   "outputs": [],
   "source": [
    "\n"
   ]
  },
  {
   "cell_type": "code",
   "execution_count": null,
   "metadata": {},
   "outputs": [],
   "source": [
    "# convert to json\n",
    "#roads_data = response.json()\n",
    "\n"
   ]
  },
  {
   "cell_type": "code",
   "execution_count": null,
   "metadata": {},
   "outputs": [],
   "source": [
    "# Jon's code starts here."
   ]
  },
  {
   "cell_type": "markdown",
   "metadata": {},
   "source": [
    "### Make sure to change the .csv file name in two places before running.\n",
    "### Look for: # <-------------Change to: df_<Your File #>"
   ]
  },
  {
   "cell_type": "code",
   "execution_count": null,
   "metadata": {},
   "outputs": [],
   "source": [
    "# File to Load\n",
    "file_to_load = \"Resources/df_2.csv\" # <-------------Change to: df_<Your File #>\n",
    "\n",
    "# Read Purchasing File and store into Pandas data frame\n",
    "df = pd.read_csv(file_to_load)\n",
    "\n",
    "#print(df)\n",
    "\n",
    "# Add \"Speed Limit\" and \"Nearest Intersection\" columns to the DataFrame.\n",
    "df[\"Speed Limit\"] = \"\"\n",
    "df[\"Nearest Intersection\"] = \"\"\n",
    "#df"
   ]
  },
  {
   "cell_type": "code",
   "execution_count": null,
   "metadata": {},
   "outputs": [],
   "source": []
  },
  {
   "cell_type": "markdown",
   "metadata": {},
   "source": []
  },
  {
   "cell_type": "code",
   "execution_count": null,
   "metadata": {},
   "outputs": [],
   "source": [
    "# Set parameters for speed limit search.\n",
    "params = {\n",
    "    \"key\": mqkey,\n",
    "    \"includeRoadMetadata\": \"true\",\n",
    "    \"includeNearestIntersection\": \"true\"\n",
    "}\n",
    "\n",
    "# Set a variable to track each iteration.\n",
    "Request_number = 0\n",
    "\n",
    "# Use for loop to locate the speed limits.\n",
    "for index, row in df.iterrows():\n",
    "    \n",
    "    # Get Lat & Lng from DataFrame.\n",
    "    lat = row[\"Start_Lat\"]\n",
    "    lng = row[\"Start_Lng\"]\n",
    "    \n",
    "    # Change location each iteration while leaving original params in place.\n",
    "    #params[\"location\"] = f'{lat},{lng}'\n",
    "    location = f\"{lat},{lng}\"\n",
    "    \n",
    "    # Set base URL.\n",
    "    base_url = \"http://www.mapquestapi.com/geocoding/v1/reverse?includeRoadMetadata=true&includeNearestIntersection=true\"\n",
    "    query_url = f\"{base_url}&key={mqkey}&location={location}\"\n",
    "    \n",
    "    \n",
    "    # Make requests and print URL.\n",
    "    speed = requests.get(query_url)\n",
    "    #print(speed.url)\n",
    "    \n",
    "    # Convert to json\n",
    "    speed = speed.json()\n",
    "    \n",
    "    # In case there may be missing speed limits, use try-except to skip any missing data.\n",
    "    try:\n",
    "        df.loc[index, \"Speed Limit\"] = speed[\"results\"][0][\"locations\"][0][\"roadMetadata\"][\"speedLimit\"]\n",
    "        df.loc[index, \"Nearest Intersection\"] = speed[\"results\"][0][\"locations\"][0][\"nearestIntersection\"][\"streetDisplayName\"]\n",
    "        Request_number = Request_number + 1\n",
    "        #time.sleep(.1)\n",
    "        print(f\"Processed request number {Request_number}\")\n",
    "        #if Request_number == 10:\n",
    "            #break\n",
    "\n",
    "    except Exception as e:\n",
    "        Request_number = Request_number + 1\n",
    "        print(\"Speed limit or Nearest Intersection not found... Next\")\n",
    "        print(e)\n",
    "        #if Request_number == 10:\n",
    "            #break\n",
    "        \n",
    "        pass  "
   ]
  },
  {
   "cell_type": "code",
   "execution_count": null,
   "metadata": {},
   "outputs": [],
   "source": [
    "df"
   ]
  },
  {
   "cell_type": "code",
   "execution_count": null,
   "metadata": {},
   "outputs": [],
   "source": [
    "# Count how many rows were blank in 'Speed Limit' column.\n",
    "len(df[df['Speed Limit'] == ''])"
   ]
  },
  {
   "cell_type": "code",
   "execution_count": null,
   "metadata": {},
   "outputs": [],
   "source": [
    "# Count how many rows were blank in 'Nearest Intersection' column.\n",
    "len(df[df['Nearest Intersection'] == ''])"
   ]
  },
  {
   "cell_type": "markdown",
   "metadata": {},
   "source": [
    "### Make sure to change the .csv file name in two places before running.\n",
    "### Look for: # <-------------Change to: df_<Your File #>"
   ]
  },
  {
   "cell_type": "code",
   "execution_count": null,
   "metadata": {},
   "outputs": [],
   "source": [
    "# Save to .csv\n",
    "df.to_csv(r'Resources\\df_2WithSpeed.csv', index=False) # <-------------Change to: df_<Your File #>"
   ]
  },
  {
   "cell_type": "code",
   "execution_count": null,
   "metadata": {},
   "outputs": [],
   "source": [
    "#Jon's code ends here."
   ]
  },
  {
   "cell_type": "code",
   "execution_count": null,
   "metadata": {},
   "outputs": [],
   "source": []
  },
  {
   "cell_type": "code",
   "execution_count": null,
   "metadata": {},
   "outputs": [],
   "source": []
  },
  {
   "cell_type": "code",
   "execution_count": null,
   "metadata": {},
   "outputs": [],
   "source": [
    "#Calvin's Heatmap"
   ]
  },
  {
   "cell_type": "code",

   "execution_count": null,
   "metadata": {},
   "outputs": [],

   "source": [
    "# File to Load\n",
    "file_to_load = \"Resources/AccidentDataWithSpeed.csv\" # <-------------Change to: df_<Your File #>\n",
    "\n",
    "# Read Purchasing File and store into Pandas data frame\n",
    "df = pd.read_csv(file_to_load)\n",
    "df.head()"
   ]
  },
  {
   "cell_type": "code",

   "execution_count": null,

   "metadata": {},
   "outputs": [],
   "source": [
    " # Configure gmaps with API key\n",
    "gmaps.configure(api_key=gkey)"
   ]
  },
  {
   "cell_type": "code",

   "execution_count": null,

   "metadata": {},
   "outputs": [],
   "source": [
    " # Store 'Lat' and 'Lng' into  locations \n",
    "locations = df[[\"Start_Lat\", \"Start_Lng\"]].astype(float)"
   ]
  },
  {
   "cell_type": "code",

   "execution_count": null,
   "metadata": {},
   "outputs": [],

   "source": [
    "fig = gmaps.figure()\n",
    "\n",
    "heat_layer = gmaps.heatmap_layer(locations, weights=df[\"Severity\"], \n",
    "                                 dissipating=False, max_intensity=4\n",
    "                                 \n",
    "                                 \n",
    "                                 ,\n",

    "                                 point_radius = .02)\n",

    "fig.add_layer(heat_layer)\n",
    "\n",
    "fig"
   ]
  },
  {
   "cell_type": "code",
   "execution_count": null,
   "metadata": {},
   "outputs": [],
   "source": []
  }
 ],
 "metadata": {
  "kernelspec": {
   "display_name": "Python 3",
   "language": "python",
   "name": "python3"
  },
  "language_info": {
   "codemirror_mode": {
    "name": "ipython",
    "version": 3
   },
   "file_extension": ".py",
   "mimetype": "text/x-python",
   "name": "python",
   "nbconvert_exporter": "python",
   "pygments_lexer": "ipython3",
   "version": "3.6.10"
  }
 },
 "nbformat": 4,
 "nbformat_minor": 4
}
