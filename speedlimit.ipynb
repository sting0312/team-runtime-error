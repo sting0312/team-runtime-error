{
 "cells": [
  {
   "cell_type": "markdown",
   "metadata": {},
   "source": [
    "### *****Make sure to change the .csv file name in two places before running.*****\n",
    "### Look for: # <-------------Change to: df_<Your File #>"
   ]
  },
  {
   "cell_type": "code",
   "execution_count": 7,
   "metadata": {},
   "outputs": [],
   "source": [
    "#Import packages\n",
    "import pandas as pd\n",
    "import requests\n",
    "import json\n",
    "import numpy as np\n",
    "import time\n",
    "import gmaps\n",
    "\n",
    "from config import (mqkey, gkey) "
   ]
  },
  {
   "cell_type": "code",
   "execution_count": null,
   "metadata": {},
   "outputs": [],
   "source": [
    "#load crash data\n",
    "#file_path = 'Resources/CRASH DATA SET'\n",
    "\n",
    "#crash_csv = pd.read_csv(file_path)\n",
    "\n",
    "#place_holder_df = pd.DataFrame()"
   ]
  },
  {
   "cell_type": "code",
   "execution_count": null,
   "metadata": {},
   "outputs": [],
   "source": [
    "#set list of lat lng to feed into google\n",
    "\n",
    "#lat = df['Start_lat']\n",
    "#lng = df['Start_lng']\n",
    "\n",
    "#for row in crash_csv:\n",
    "    #lat = df['Start_lat']\n",
    "    #lng = df['Start_lng']\n",
    "    #google_path = f'{lat},{lng}'\n",
    "    #params = {'Key': gkey,\n",
    "         #'Path' : google_path}\n",
    "    #base_url = 'https://roads.googleapis.com/v1/speedLimits?'\n",
    "\n",
    "    #response = requests.get(base_url, params=params)\n",
    "    \n",
    "    #roads_data = response.json()\n",
    "    \n",
    "    \n",
    "    "
   ]
  },
  {
   "cell_type": "code",
   "execution_count": null,
   "metadata": {},
   "outputs": [],
   "source": [
    "\n"
   ]
  },
  {
   "cell_type": "code",
   "execution_count": null,
   "metadata": {},
   "outputs": [],
   "source": [
    "# convert to json\n",
    "#roads_data = response.json()\n",
    "\n"
   ]
  },
  {
   "cell_type": "code",
   "execution_count": null,
   "metadata": {},
   "outputs": [],
   "source": [
    "# Jon's code starts here."
   ]
  },
  {
   "cell_type": "markdown",
   "metadata": {},
   "source": [
    "### Make sure to change the .csv file name in two places before running.\n",
    "### Look for: # <-------------Change to: df_<Your File #>"
   ]
  },
  {
   "cell_type": "code",
   "execution_count": null,
   "metadata": {},
   "outputs": [],
   "source": [
    "# File to Load\n",
    "file_to_load = \"Resources/df_2.csv\" # <-------------Change to: df_<Your File #>\n",
    "\n",
    "# Read Purchasing File and store into Pandas data frame\n",
    "df = pd.read_csv(file_to_load)\n",
    "\n",
    "#print(df)\n",
    "\n",
    "# Add \"Speed Limit\" and \"Nearest Intersection\" columns to the DataFrame.\n",
    "df[\"Speed Limit\"] = \"\"\n",
    "df[\"Nearest Intersection\"] = \"\"\n",
    "#df"
   ]
  },
  {
   "cell_type": "code",
   "execution_count": null,
   "metadata": {},
   "outputs": [],
   "source": []
  },
  {
   "cell_type": "markdown",
   "metadata": {},
   "source": []
  },
  {
   "cell_type": "code",
   "execution_count": null,
   "metadata": {},
   "outputs": [],
   "source": [
    "# Set parameters for speed limit search.\n",
    "params = {\n",
    "    \"key\": mqkey,\n",
    "    \"includeRoadMetadata\": \"true\",\n",
    "    \"includeNearestIntersection\": \"true\"\n",
    "}\n",
    "\n",
    "# Set a variable to track each iteration.\n",
    "Request_number = 0\n",
    "\n",
    "# Use for loop to locate the speed limits.\n",
    "for index, row in df.iterrows():\n",
    "    \n",
    "    # Get Lat & Lng from DataFrame.\n",
    "    lat = row[\"Start_Lat\"]\n",
    "    lng = row[\"Start_Lng\"]\n",
    "    \n",
    "    # Change location each iteration while leaving original params in place.\n",
    "    #params[\"location\"] = f'{lat},{lng}'\n",
    "    location = f\"{lat},{lng}\"\n",
    "    \n",
    "    # Set base URL.\n",
    "    base_url = \"http://www.mapquestapi.com/geocoding/v1/reverse?includeRoadMetadata=true&includeNearestIntersection=true\"\n",
    "    query_url = f\"{base_url}&key={mqkey}&location={location}\"\n",
    "    \n",
    "    \n",
    "    # Make requests and print URL.\n",
    "    speed = requests.get(query_url)\n",
    "    #print(speed.url)\n",
    "    \n",
    "    # Convert to json\n",
    "    speed = speed.json()\n",
    "    \n",
    "    # In case there may be missing speed limits, use try-except to skip any missing data.\n",
    "    try:\n",
    "        df.loc[index, \"Speed Limit\"] = speed[\"results\"][0][\"locations\"][0][\"roadMetadata\"][\"speedLimit\"]\n",
    "        df.loc[index, \"Nearest Intersection\"] = speed[\"results\"][0][\"locations\"][0][\"nearestIntersection\"][\"streetDisplayName\"]\n",
    "        Request_number = Request_number + 1\n",
    "        #time.sleep(.1)\n",
    "        print(f\"Processed request number {Request_number}\")\n",
    "        #if Request_number == 10:\n",
    "            #break\n",
    "\n",
    "    except Exception as e:\n",
    "        Request_number = Request_number + 1\n",
    "        print(\"Speed limit or Nearest Intersection not found... Next\")\n",
    "        print(e)\n",
    "        #if Request_number == 10:\n",
    "            #break\n",
    "        \n",
    "        pass  "
   ]
  },
  {
   "cell_type": "code",
   "execution_count": null,
   "metadata": {},
   "outputs": [],
   "source": [
    "df"
   ]
  },
  {
   "cell_type": "code",
   "execution_count": null,
   "metadata": {},
   "outputs": [],
   "source": [
    "# Count how many rows were blank in 'Speed Limit' column.\n",
    "len(df[df['Speed Limit'] == ''])"
   ]
  },
  {
   "cell_type": "code",
   "execution_count": null,
   "metadata": {},
   "outputs": [],
   "source": [
    "# Count how many rows were blank in 'Nearest Intersection' column.\n",
    "len(df[df['Nearest Intersection'] == ''])"
   ]
  },
  {
   "cell_type": "markdown",
   "metadata": {},
   "source": [
    "### Make sure to change the .csv file name in two places before running.\n",
    "### Look for: # <-------------Change to: df_<Your File #>"
   ]
  },
  {
   "cell_type": "code",
   "execution_count": null,
   "metadata": {},
   "outputs": [],
   "source": [
    "# Save to .csv\n",
    "df.to_csv(r'Resources\\df_2WithSpeed.csv', index=False) # <-------------Change to: df_<Your File #>"
   ]
  },
  {
   "cell_type": "code",
   "execution_count": null,
   "metadata": {},
   "outputs": [],
   "source": [
    "#Jon's code ends here."
   ]
  },
  {
   "cell_type": "code",
   "execution_count": null,
   "metadata": {},
   "outputs": [],
   "source": []
  },
  {
   "cell_type": "code",
   "execution_count": null,
   "metadata": {},
   "outputs": [],
   "source": []
  },
  {
   "cell_type": "code",
   "execution_count": null,
   "metadata": {},
   "outputs": [],
   "source": [
    "#Calvin's Heatmap"
   ]
  },
  {
   "cell_type": "code",
   "execution_count": 8,
   "metadata": {},
   "outputs": [
    {
     "data": {
      "text/html": [
       "<div>\n",
       "<style scoped>\n",
       "    .dataframe tbody tr th:only-of-type {\n",
       "        vertical-align: middle;\n",
       "    }\n",
       "\n",
       "    .dataframe tbody tr th {\n",
       "        vertical-align: top;\n",
       "    }\n",
       "\n",
       "    .dataframe thead th {\n",
       "        text-align: right;\n",
       "    }\n",
       "</style>\n",
       "<table border=\"1\" class=\"dataframe\">\n",
       "  <thead>\n",
       "    <tr style=\"text-align: right;\">\n",
       "      <th></th>\n",
       "      <th>ID</th>\n",
       "      <th>TMC</th>\n",
       "      <th>Severity</th>\n",
       "      <th>Start_Time</th>\n",
       "      <th>End_Time</th>\n",
       "      <th>Start_Lat</th>\n",
       "      <th>Start_Lng</th>\n",
       "      <th>Description</th>\n",
       "      <th>Number</th>\n",
       "      <th>Street</th>\n",
       "      <th>City</th>\n",
       "      <th>County</th>\n",
       "      <th>State</th>\n",
       "      <th>Temperature(F)</th>\n",
       "      <th>Visibility(mi)</th>\n",
       "      <th>Weather_Condition</th>\n",
       "      <th>Traffic_Signal</th>\n",
       "      <th>Speed Limit</th>\n",
       "      <th>Nearest Intersection</th>\n",
       "    </tr>\n",
       "  </thead>\n",
       "  <tbody>\n",
       "    <tr>\n",
       "      <th>0</th>\n",
       "      <td>A-514241</td>\n",
       "      <td>201.0</td>\n",
       "      <td>2</td>\n",
       "      <td>2020-12-30 05:23:06</td>\n",
       "      <td>2020-12-30 07:28:47</td>\n",
       "      <td>44.861118</td>\n",
       "      <td>-93.176346</td>\n",
       "      <td>Right hand shoulder blocked due to accident on...</td>\n",
       "      <td>NaN</td>\n",
       "      <td>I-494 E</td>\n",
       "      <td>Saint Paul</td>\n",
       "      <td>Dakota</td>\n",
       "      <td>MN</td>\n",
       "      <td>23.0</td>\n",
       "      <td>10.0</td>\n",
       "      <td>Cloudy</td>\n",
       "      <td>False</td>\n",
       "      <td>60.0</td>\n",
       "      <td>NaN</td>\n",
       "    </tr>\n",
       "    <tr>\n",
       "      <th>1</th>\n",
       "      <td>A-514242</td>\n",
       "      <td>201.0</td>\n",
       "      <td>2</td>\n",
       "      <td>2020-12-30 05:44:12</td>\n",
       "      <td>2020-12-30 08:06:25</td>\n",
       "      <td>44.425419</td>\n",
       "      <td>-92.878181</td>\n",
       "      <td>Accident on US-52 Northbound after CR-1.</td>\n",
       "      <td>35598.0</td>\n",
       "      <td>Highway 52 Blvd</td>\n",
       "      <td>Cannon Falls</td>\n",
       "      <td>Goodhue</td>\n",
       "      <td>MN</td>\n",
       "      <td>26.0</td>\n",
       "      <td>10.0</td>\n",
       "      <td>Cloudy</td>\n",
       "      <td>False</td>\n",
       "      <td>65.0</td>\n",
       "      <td>360th Street Way</td>\n",
       "    </tr>\n",
       "    <tr>\n",
       "      <th>2</th>\n",
       "      <td>A-514243</td>\n",
       "      <td>201.0</td>\n",
       "      <td>2</td>\n",
       "      <td>2020-12-30 05:43:31</td>\n",
       "      <td>2020-12-30 07:09:40</td>\n",
       "      <td>44.807671</td>\n",
       "      <td>-93.398087</td>\n",
       "      <td>Accident on US-169 Northbound at Riverview Rd.</td>\n",
       "      <td>NaN</td>\n",
       "      <td>Shakopee Byp N</td>\n",
       "      <td>Minneapolis</td>\n",
       "      <td>Hennepin</td>\n",
       "      <td>MN</td>\n",
       "      <td>23.0</td>\n",
       "      <td>9.0</td>\n",
       "      <td>Cloudy</td>\n",
       "      <td>False</td>\n",
       "      <td>65.0</td>\n",
       "      <td>NaN</td>\n",
       "    </tr>\n",
       "    <tr>\n",
       "      <th>3</th>\n",
       "      <td>A-514244</td>\n",
       "      <td>201.0</td>\n",
       "      <td>2</td>\n",
       "      <td>2020-12-30 05:42:29</td>\n",
       "      <td>2020-12-30 07:36:15</td>\n",
       "      <td>44.946819</td>\n",
       "      <td>-93.079323</td>\n",
       "      <td>Right hand shoulder blocked due to accident on...</td>\n",
       "      <td>NaN</td>\n",
       "      <td>US-52 S</td>\n",
       "      <td>Saint Paul</td>\n",
       "      <td>Ramsey</td>\n",
       "      <td>MN</td>\n",
       "      <td>24.0</td>\n",
       "      <td>10.0</td>\n",
       "      <td>Cloudy</td>\n",
       "      <td>False</td>\n",
       "      <td>55.0</td>\n",
       "      <td>NaN</td>\n",
       "    </tr>\n",
       "    <tr>\n",
       "      <th>4</th>\n",
       "      <td>A-514245</td>\n",
       "      <td>201.0</td>\n",
       "      <td>2</td>\n",
       "      <td>2020-12-30 05:50:29</td>\n",
       "      <td>2020-12-30 08:06:13</td>\n",
       "      <td>44.268723</td>\n",
       "      <td>-94.725304</td>\n",
       "      <td>Accident on MN-4 near 200th St.</td>\n",
       "      <td>21221.0</td>\n",
       "      <td>State Highway 4</td>\n",
       "      <td>Sleepy Eye</td>\n",
       "      <td>Brown</td>\n",
       "      <td>MN</td>\n",
       "      <td>21.0</td>\n",
       "      <td>10.0</td>\n",
       "      <td>Cloudy / Windy</td>\n",
       "      <td>False</td>\n",
       "      <td>60.0</td>\n",
       "      <td>200th St</td>\n",
       "    </tr>\n",
       "  </tbody>\n",
       "</table>\n",
       "</div>"
      ],
      "text/plain": [
       "         ID    TMC  Severity           Start_Time             End_Time  \\\n",
       "0  A-514241  201.0         2  2020-12-30 05:23:06  2020-12-30 07:28:47   \n",
       "1  A-514242  201.0         2  2020-12-30 05:44:12  2020-12-30 08:06:25   \n",
       "2  A-514243  201.0         2  2020-12-30 05:43:31  2020-12-30 07:09:40   \n",
       "3  A-514244  201.0         2  2020-12-30 05:42:29  2020-12-30 07:36:15   \n",
       "4  A-514245  201.0         2  2020-12-30 05:50:29  2020-12-30 08:06:13   \n",
       "\n",
       "   Start_Lat  Start_Lng                                        Description  \\\n",
       "0  44.861118 -93.176346  Right hand shoulder blocked due to accident on...   \n",
       "1  44.425419 -92.878181           Accident on US-52 Northbound after CR-1.   \n",
       "2  44.807671 -93.398087     Accident on US-169 Northbound at Riverview Rd.   \n",
       "3  44.946819 -93.079323  Right hand shoulder blocked due to accident on...   \n",
       "4  44.268723 -94.725304                    Accident on MN-4 near 200th St.   \n",
       "\n",
       "    Number           Street          City    County State  Temperature(F)  \\\n",
       "0      NaN          I-494 E    Saint Paul    Dakota    MN            23.0   \n",
       "1  35598.0  Highway 52 Blvd  Cannon Falls   Goodhue    MN            26.0   \n",
       "2      NaN   Shakopee Byp N   Minneapolis  Hennepin    MN            23.0   \n",
       "3      NaN          US-52 S    Saint Paul    Ramsey    MN            24.0   \n",
       "4  21221.0  State Highway 4    Sleepy Eye     Brown    MN            21.0   \n",
       "\n",
       "   Visibility(mi) Weather_Condition  Traffic_Signal  Speed Limit  \\\n",
       "0            10.0            Cloudy           False         60.0   \n",
       "1            10.0            Cloudy           False         65.0   \n",
       "2             9.0            Cloudy           False         65.0   \n",
       "3            10.0            Cloudy           False         55.0   \n",
       "4            10.0    Cloudy / Windy           False         60.0   \n",
       "\n",
       "  Nearest Intersection  \n",
       "0                  NaN  \n",
       "1     360th Street Way  \n",
       "2                  NaN  \n",
       "3                  NaN  \n",
       "4             200th St  "
      ]
     },
     "execution_count": 8,
     "metadata": {},
     "output_type": "execute_result"
    }
   ],
   "source": [
    "# File to Load\n",
    "file_to_load = \"Resources/AccidentDataWithSpeed.csv\" # <-------------Change to: df_<Your File #>\n",
    "\n",
    "# Read Purchasing File and store into Pandas data frame\n",
    "df = pd.read_csv(file_to_load)\n",
    "df.head()"
   ]
  },
  {
   "cell_type": "code",
   "execution_count": 9,
   "metadata": {},
   "outputs": [],
   "source": [
    " # Configure gmaps with API key\n",
    "gmaps.configure(api_key=gkey)"
   ]
  },
  {
   "cell_type": "code",
   "execution_count": 10,
   "metadata": {},
   "outputs": [],
   "source": [
    " # Store 'Lat' and 'Lng' into  locations \n",
    "locations = df[[\"Start_Lat\", \"Start_Lng\"]].astype(float)"
   ]
  },
  {
   "cell_type": "code",
   "execution_count": 21,
   "metadata": {},
   "outputs": [
    {
     "data": {
      "application/vnd.jupyter.widget-view+json": {
       "model_id": "26573ea7c7ad46b185e15d347706cd9b",
       "version_major": 2,
       "version_minor": 0
      },
      "text/plain": [
       "Figure(layout=FigureLayout(height='420px'))"
      ]
     },
     "metadata": {},
     "output_type": "display_data"
    }
   ],
   "source": [
    "fig = gmaps.figure()\n",
    "\n",
    "heat_layer = gmaps.heatmap_layer(locations, weights=df[\"Severity\"], \n",
    "                                 dissipating=False, max_intensity=4\n",
    "                                 \n",
    "                                 \n",
    "                                 ,\n",
    "                                 point_radius = .05)\n",
    "fig.add_layer(heat_layer)\n",
    "\n",
    "fig"
   ]
  },
  {
   "cell_type": "code",
   "execution_count": null,
   "metadata": {},
   "outputs": [],
   "source": []
  }
 ],
 "metadata": {
  "kernelspec": {
   "display_name": "Python 3",
   "language": "python",
   "name": "python3"
  },
  "language_info": {
   "codemirror_mode": {
    "name": "ipython",
    "version": 3
   },
   "file_extension": ".py",
   "mimetype": "text/x-python",
   "name": "python",
   "nbconvert_exporter": "python",
   "pygments_lexer": "ipython3",
   "version": "3.6.10"
  }
 },
 "nbformat": 4,
 "nbformat_minor": 4
}
