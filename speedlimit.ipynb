{
 "cells": [
  {
   "cell_type": "code",
   "execution_count": null,
   "metadata": {},
   "outputs": [],
   "source": [
    "#Import packages\n",
    "import pandas as pd\n",
    "import requests\n",
    "import json\n",
    "\n",
    "from config import gkey"
   ]
  },
  {
   "cell_type": "code",
   "execution_count": null,
   "metadata": {},
   "outputs": [],
   "source": [
    "#load crash data\n",
    "file_path = 'Resources/CRASH DATA SET'\n",
    "\n",
    "crash_csv = pd.read_csv(file_path)\n",
    "\n",
    "place_holder_df = pd.DataFrame()"
   ]
  },
  {
   "cell_type": "code",
   "execution_count": null,
   "metadata": {},
   "outputs": [],
   "source": [
    "#set list of lat lng to feed into google\n",
    "\n",
    "lat = df['Start_lat']\n",
    "lng = df['Start_lng']\n",
    "\n",
    "for row in crash_csv:\n",
    "    #lat = df['Start_lat']\n",
    "    #lng = df['Start_lng']\n",
    "    google_path = f'{lat},{lng}'\n",
    "    params = {'Key': gkey,\n",
    "         'Path' : google_path}\n",
    "    base_url = 'https://roads.googleapis.com/v1/speedLimits?'\n",
    "\n",
    "    response = requests.get(base_url, params=params)\n",
    "    \n",
    "    roads_data = response.json()\n",
    "    \n",
    "    \n",
    "    "
   ]
  },
  {
   "cell_type": "code",
   "execution_count": null,
   "metadata": {},
   "outputs": [],
   "source": [
    "\n"
   ]
  },
  {
   "cell_type": "code",
   "execution_count": null,
   "metadata": {},
   "outputs": [],
   "source": [
    "# convert to json\n",
    "roads_data = response.json()\n",
    "\n"
   ]
  }
 ],
 "metadata": {
  "kernelspec": {
   "display_name": "Python 3",
   "language": "python",
   "name": "python3"
  },
  "language_info": {
   "codemirror_mode": {
    "name": "ipython",
    "version": 3
   },
   "file_extension": ".py",
   "mimetype": "text/x-python",
   "name": "python",
   "nbconvert_exporter": "python",
   "pygments_lexer": "ipython3",
   "version": "3.6.10"
  }
 },
 "nbformat": 4,
 "nbformat_minor": 4
}
