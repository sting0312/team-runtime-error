{
 "cells": [
  {
   "cell_type": "code",
   "execution_count": null,
   "metadata": {},
   "outputs": [],
   "source": [
    "#Import packages\n",
    "import pandas as pd\n",
    "import requests\n",
    "import json\n",
    "\n",
    "from config import gkey"
   ]
  },
  {
   "cell_type": "code",
   "execution_count": null,
   "metadata": {},
   "outputs": [],
   "source": [
    "#load crash data\n",
    "file_path = 'Resources/CRASH DATA SET'\n",
    "\n",
    "crash_csv = pd.read_csv(file_path)\n",
    "\n",
    "place_holder_df = pd.DataFrame()"
   ]
  },
  {
   "cell_type": "code",
   "execution_count": null,
   "metadata": {},
   "outputs": [],
   "source": [
    "#set list of lat lng to feed into google\n",
    "\n",
    "lat = df['Start_lat']\n",
    "lng = df['Start_lng']\n",
    "\n",
    "for row in crash_csv:\n",
    "    #lat = df['Start_lat']\n",
    "    #lng = df['Start_lng']\n",
    "    google_path = f'{lat},{lng}'\n",
    "    params = {'Key': gkey,\n",
    "         'Path' : google_path}\n",
    "    base_url = 'https://roads.googleapis.com/v1/speedLimits?'\n",
    "\n",
    "    response = requests.get(base_url, params=params)\n",
    "    \n",
    "    roads_data = response.json()\n",
    "    \n",
    "    \n",
    "    "
   ]
  },
  {
   "cell_type": "code",
   "execution_count": null,
   "metadata": {},
   "outputs": [],
   "source": [
    "\n"
   ]
  },
  {
   "cell_type": "code",
   "execution_count": null,
   "metadata": {},
   "outputs": [],
   "source": [
    "# convert to json\n",
    "roads_data = response.json()\n",
    "\n"
   ]
  },
  {
   "cell_type": "code",
   "execution_count": null,
   "metadata": {},
   "outputs": [],
   "source": [
    "# Jon's code starts here."
   ]
  },
  {
   "cell_type": "code",
   "execution_count": null,
   "metadata": {},
   "outputs": [],
   "source": [
    "import gmaps"
   ]
  },
  {
   "cell_type": "code",
   "execution_count": null,
   "metadata": {},
   "outputs": [],
   "source": [
    "# Store DataFrame/.csv path. Change to df if .csv.\n",
    "# Above: load crash data #\n",
    "**df**\n",
    "\n",
    "# Add \"Speed Limit\" column to the DataFrame.\n",
    "**df**[\"Speed Limit\"] = \"\"\n",
    "\n",
    "# Set parameters for speed limit search.\n",
    "params = {\n",
    "    \"units\": \"MPH\",\n",
    "    \"key\": gkey\n",
    "}\n",
    "\n",
    "# Set a variable to track each iteration.\n",
    "Request_number = 0\n",
    "\n",
    "# Use for loop to locate the speed limits.\n",
    "for index, row in **df**.iterrows():\n",
    "    \n",
    "    # Get Lat & Lng from DataFrame.\n",
    "    lat = row[\"Start_Lat\"]\n",
    "    lng = row[\"Start_Lng\"]\n",
    "    \n",
    "    # Change location each iteration while leaving original params in place.\n",
    "    params[\"path\"] = f\"{lat},{lng}\"\n",
    "    \n",
    "    # Set base URL.\n",
    "    base_url = \"https://roads.googleapis.com/v1/speedLimits?\"\n",
    "    \n",
    "    # Make requests and print URL.\n",
    "    speed = requests.get(base_url, params=params)\n",
    "    \n",
    "    # Convert to json\n",
    "    speed = speed.json()\n",
    "    \n",
    "    # In case there may be missing speed limits, use try-except to skip any missing data.\n",
    "    try:\n",
    "        **df**.loc[index, \"Speed Limit\"] = speed[\"speedLimits:\"][0][\"speedLimit:\"]\n",
    "        Request_number = Request_number + 1\n",
    "        time.sleep(.1)\n",
    "        print(f\"Processed request number {Request_number}\")\n",
    "    except:\n",
    "        Request_number = Request_number + 1\n",
    "        print(\"Speed limit not found. Skipping...\")\n",
    "        pass\n",
    "        "
   ]
  },
  {
   "cell_type": "code",
   "execution_count": null,
   "metadata": {},
   "outputs": [],
   "source": [
    "#Jon's code ends here."
   ]
  }
 ],
 "metadata": {
  "kernelspec": {
   "display_name": "Python 3",
   "language": "python",
   "name": "python3"
  },
  "language_info": {
   "codemirror_mode": {
    "name": "ipython",
    "version": 3
   },
   "file_extension": ".py",
   "mimetype": "text/x-python",
   "name": "python",
   "nbconvert_exporter": "python",
   "pygments_lexer": "ipython3",
   "version": "3.6.10"
  }
 },
 "nbformat": 4,
 "nbformat_minor": 4
}
