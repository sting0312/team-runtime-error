{
 "cells": [
  {
   "cell_type": "markdown",
   "metadata": {},
   "source": [
    "# Speed Limits and Accidents in Minnesota\n",
    "### Team Members:\n",
    "- Robert\n",
    "- Jon\n",
    "- Calvin\n",
    "- Mike"
   ]
  },
  {
   "cell_type": "markdown",
   "metadata": {},
   "source": [
    "## Motivations and Summary"
   ]
  },
  {
   "cell_type": "markdown",
   "metadata": {},
   "source": [
    "text here"
   ]
  },
  {
   "cell_type": "markdown",
   "metadata": {},
   "source": [
    "## Questions and Data"
   ]
  },
  {
   "cell_type": "markdown",
   "metadata": {},
   "source": [
    "text here"
   ]
  },
  {
   "cell_type": "markdown",
   "metadata": {},
   "source": [
    "## Data Cleanup & Exploration"
   ]
  },
  {
   "cell_type": "markdown",
   "metadata": {},
   "source": [
    "text here"
   ]
  },
  {
   "cell_type": "markdown",
   "metadata": {},
   "source": [
    "## Data Analysis"
   ]
  },
  {
   "cell_type": "code",
   "execution_count": null,
   "metadata": {},
   "outputs": [],
   "source": [
    "# Dependencies and Setup\n",
    "import matplotlib.pyplot as plt\n",
    "import pandas as pd\n",
    "import numpy as np\n",
    "import requests\n",
    "import gmaps\n",
    "import time\n",
    "import os\n",
    "from scipy.stats import linregress\n",
    "from citipy import citipy\n",
    "import scipy.stats as stats\n",
    "from citipy import citipy"
   ]
  },
  {
   "cell_type": "code",
   "execution_count": null,
   "metadata": {},
   "outputs": [],
   "source": [
    "# import csv\n",
    "file = 'Resources/AccidentDataWithSpeed.csv'\n",
    "df = pd.read_csv(file)\n",
    "df.head()"
   ]
  },
  {
   "cell_type": "code",
   "execution_count": null,
   "metadata": {},
   "outputs": [],
   "source": [
    "# Calvin's heat map starts here"
   ]
  },
  {
   "cell_type": "code",
   "execution_count": null,
   "metadata": {},
   "outputs": [],
   "source": [
    "# Calvin's heat map ends here"
   ]
  },
  {
   "cell_type": "code",
   "execution_count": null,
   "metadata": {},
   "outputs": [],
   "source": [
    "# Jon's graphs start here"
   ]
  },
  {
   "cell_type": "code",
   "execution_count": null,
   "metadata": {},
   "outputs": [],
   "source": [
    "# Jon's graphs end here"
   ]
  },
  {
   "cell_type": "code",
   "execution_count": null,
   "metadata": {},
   "outputs": [],
   "source": [
    "# Mike's hypothesis starts here"
   ]
  },
  {
   "cell_type": "code",
   "execution_count": null,
   "metadata": {},
   "outputs": [],
   "source": [
    "# Mike's hypothesis ends here"
   ]
  },
  {
   "cell_type": "code",
   "execution_count": null,
   "metadata": {},
   "outputs": [],
   "source": [
    "# Roberts's regression starts here"
   ]
  },
  {
   "cell_type": "markdown",
   "metadata": {},
   "source": [
    "## Linear Regression of Speed Limit Impact on Accicent Counts"
   ]
  },
  {
   "cell_type": "markdown",
   "metadata": {},
   "source": [
    "#### Setup and Setting Plot Values"
   ]
  },
  {
   "cell_type": "code",
   "execution_count": null,
   "metadata": {},
   "outputs": [],
   "source": [
    "scatterdf = df\n",
    "count2 = scatterdf.groupby([\"Speed Limit\"])\n",
    "count2 = count2.count().reset_index()\n",
    "x_axis = count2[\"Speed Limit\"]\n",
    "y_axis = count2[\"ID\"]"
   ]
  },
  {
   "cell_type": "markdown",
   "metadata": {},
   "source": [
    "#### Scatterplot Showing Base Data and Correlation"
   ]
  },
  {
   "cell_type": "code",
   "execution_count": null,
   "metadata": {},
   "outputs": [],
   "source": [
    "plt.title(\"Number of Incidents by Speed Limit on Road\")\n",
    "plt.xlabel(\"Speed Limit\")\n",
    "plt.ylabel(\"Number of Accidents\")\n",
    "plt.scatter(x_axis, y_axis, edgecolors = \"black\", marker=\"o\", color=\"red\")"
   ]
  },
  {
   "cell_type": "markdown",
   "metadata": {},
   "source": [
    "#### Scatterpolt Weighted and Scaled by Severity"
   ]
  },
  {
   "cell_type": "code",
   "execution_count": null,
   "metadata": {},
   "outputs": [],
   "source": [
    "plt.title(\"Number of Incidents by Speed Limit on Road\")\n",
    "plt.xlabel(\"Speed Limit\")\n",
    "plt.ylabel(\"Number of Accidents\")\n",
    "plt.scatter(x_axis, y_axis, s= count2[\"Severity\"], edgecolors= \"black\", marker=\"o\", color=\"red\")"
   ]
  },
  {
   "cell_type": "markdown",
   "metadata": {},
   "source": [
    "#### Regression"
   ]
  },
  {
   "cell_type": "code",
   "execution_count": null,
   "metadata": {},
   "outputs": [],
   "source": [
    "(slope, intercept, rvalue, pvalue, stderr) = linregress(x_axis, y_axis)\n",
    "regress_values = x_axis * slope + intercept\n",
    "line_eq = \"y = \" + str(round(slope,2)) + \"x + \" + str(round(intercept,2))\n",
    "plt.plot(x_axis,regress_values,\"b-\",)\n",
    "plt.annotate(line_eq,(20,8000),fontsize=15,color=\"blue\")\n",
    "plt.annotate(round(rvalue**2,2),(20,7000),fontsize=15,color=\"blue\")\n",
    "plt.title(\"Number of Incidents by Speed Limit on Road\")\n",
    "plt.xlabel(\"Speed Limit\")\n",
    "plt.ylabel(\"Number of Accidents\")\n",
    "plt.scatter(x_axis, y_axis, edgecolors = \"black\", marker=\"o\", color=\"red\")"
   ]
  },
  {
   "cell_type": "code",
   "execution_count": null,
   "metadata": {},
   "outputs": [],
   "source": [
    "# Robert's regression ends here"
   ]
  },
  {
   "cell_type": "markdown",
   "metadata": {},
   "source": [
    "## Discussion"
   ]
  },
  {
   "cell_type": "markdown",
   "metadata": {},
   "source": [
    "## Post Mortem"
   ]
  },
  {
   "cell_type": "markdown",
   "metadata": {},
   "source": [
    "- Dataset began as 1.5 GB, with data from all states in the US. Trimmming down the dataset was neccessary.\n",
    "- Initial Data Interpretation was that of Severity meant higher injury/fatality occurences. The TMC code we were using did not show what our initial interptretation of the data represented. Our research led to finding out Severity was the impact on overall Traffic Flow of vehicles on the road.\n",
    "- Initial idea was to pull Speed Limit data from Google, using a Google API call. Access to the Speed Limit information was restricted to a professional account, so our API call had to be switched to MapQuest.\n",
    "- Dataset was restricted to the Speed Limit of the road being travelled. Additional data could be researched from other sources like Minnesota State Patrol or Hospital records that show actual speed being travelled when accident occured, or severity of injury in accident.\n",
    "- Dataset is restricted to only incidents where the Police were called and a report filed. This could lead to an incomplete dataset.\n",
    "- Many more factors are included in the dataset, such as weather, time of day, cloudiness, and location of nearest traffic signs that could have an influence on accidents occuring."
   ]
  },
  {
   "cell_type": "markdown",
   "metadata": {},
   "source": [
    "## Questions"
   ]
  }
 ],
 "metadata": {
  "kernelspec": {
   "display_name": "Python 3",
   "language": "python",
   "name": "python3"
  },
  "language_info": {
   "codemirror_mode": {
    "name": "ipython",
    "version": 3
   },
   "file_extension": ".py",
   "mimetype": "text/x-python",
   "name": "python",
   "nbconvert_exporter": "python",
   "pygments_lexer": "ipython3",
   "version": "3.6.10"
  }
 },
 "nbformat": 4,
 "nbformat_minor": 4
}
