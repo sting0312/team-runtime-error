{
 "cells": [
  {
   "attachments": {},
   "cell_type": "markdown",
   "metadata": {},
   "source": [
    "# Speed Limits and Accidents in Minnesota\n",
    "### Team Members:\n",
    "- Robert\n",
    "- Jon\n",
    "- Calvin\n",
    "- Mike"
   ]
  },
  {
   "cell_type": "markdown",
   "metadata": {},
   "source": [
    "## Questions and Summary"
   ]
  },
  {
   "cell_type": "markdown",
   "metadata": {},
   "source": [
    "**How do speed limits on Minnesota roads relate to accidents?**\n",
    "\n",
    "1. Does the speed of a road lead to a higher number of accidents?\n",
    "\n",
    "2. Is there a relationship between accident severity and speed limit?\n",
    "\n",
    "    - As speed limit increases, frequency of accedents increases\n",
    "        - Hypothesis testing shows statistical signifigance\n",
    "        - Regression shows strong correlation\n",
    "    - Severity data was not what we thought it was\n",
    "        - Severity in dataset indicated impact on traffic\n",
    "        - Analysis of severity did not lead to any meaningful conclusion\n"
   ]
  },
  {
   "cell_type": "markdown",
   "metadata": {},
   "source": [
    "## Data Cleanup & Exploration"
   ]
  },
  {
   "cell_type": "markdown",
   "metadata": {},
   "source": [
    "text here"
   ]
  },
  {
   "cell_type": "markdown",
   "metadata": {},
   "source": [
    "## Data Analysis"
   ]
  },
  {
   "cell_type": "code",
   "execution_count": null,
   "metadata": {},
   "outputs": [],
   "source": [
    "# Dependencies and Setup\n",
    "import matplotlib.pyplot as plt\n",
    "import pandas as pd\n",
    "import numpy as np\n",
    "import requests\n",
    "import gmaps\n",
    "import time\n",
    "import os\n",
    "from scipy.stats import linregress\n",
    "from citipy import citipy\n",
    "import scipy.stats as stats"
   ]
  },
  {
   "cell_type": "code",
   "execution_count": null,
   "metadata": {},
   "outputs": [],
   "source": [
    "# import csv\n",
    "file = 'Resources/AccidentDataWithSpeed.csv'\n",
    "df = pd.read_csv(file)\n",
    "df.head()"
   ]
  },
  {
   "cell_type": "code",
   "execution_count": null,
   "metadata": {},
   "outputs": [],
   "source": [
    "# Calvin's heat map starts here"
   ]
  },
  {
   "cell_type": "code",
   "execution_count": null,
   "metadata": {},
   "outputs": [],
   "source": [
    "# Calvin's heat map ends here"
   ]
  },
  {
   "cell_type": "code",
   "execution_count": null,
   "metadata": {},
   "outputs": [],
   "source": [
    "# Jon's graphs start here"
   ]
  },
  {
   "cell_type": "code",
   "execution_count": null,
   "metadata": {},
   "outputs": [],
   "source": [
    "# Jon's graphs end here"
   ]
  },
  {
   "cell_type": "code",
   "execution_count": null,
   "metadata": {},
   "outputs": [],
   "source": [
    "# Mike's hypothesis starts here"
   ]
  },
  {
   "cell_type": "code",
   "execution_count": null,
   "metadata": {},
   "outputs": [],
   "source": [
    "speed_group = df.groupby(\"Speed Limit\")\n",
    "speed_count = speed_group[\"ID\"].count().reset_index()\n",
    "speed_count"
   ]
  },
  {
   "cell_type": "code",
   "execution_count": null,
   "metadata": {},
   "outputs": [],
   "source": [
    "# place data into binned categories for hypothesis test\n",
    "bins = [20, 35, 50, 70]\n",
    "bin_labels = [\"20-35\", \"35-50\", \">50\"]\n",
    "\n",
    "speed_count[\"Bin\"] = pd.cut(speed_count[\"Speed Limit\"], bins, labels=bin_labels, include_lowest=True)\n",
    "speed_count"
   ]
  },
  {
   "cell_type": "code",
   "execution_count": null,
   "metadata": {},
   "outputs": [],
   "source": [
    "# calculate average number of accidents in each speed limit bin\n",
    "speed_bin_group = speed_count.groupby(\"Bin\")\n",
    "speed_bin_group.mean()"
   ]
  },
  {
   "cell_type": "code",
   "execution_count": null,
   "metadata": {},
   "outputs": [],
   "source": [
    "# place binned data into group variables for ANOVA test\n",
    "group1 = speed_count[speed_count[\"Bin\"] == \"20-35\"][\"ID\"]\n",
    "group2 = speed_count[speed_count[\"Bin\"] == \"35-50\"][\"ID\"]\n",
    "group3 = speed_count[speed_count[\"Bin\"] == \">50\"][\"ID\"]\n",
    "\n",
    "\n",
    "# perform ANOVA test\n",
    "p_value = stats.f_oneway(group1, group2, group3)\n",
    "print(f\"p-value = {p_value[1]}\")"
   ]
  },
  {
   "cell_type": "code",
   "execution_count": null,
   "metadata": {
    "scrolled": false
   },
   "outputs": [],
   "source": [
    "# create box plot of data\n",
    "speed_count.boxplot(\"ID\", by=\"Bin\", figsize=(15,10))\n",
    "plt.title(\"Accident Box Plot\")\n",
    "plt.xlabel(\"Speed Limits\")\n",
    "plt.ylabel(\"Count of Accidents\")\n",
    "plt.show()"
   ]
  },
  {
   "cell_type": "code",
   "execution_count": null,
   "metadata": {},
   "outputs": [],
   "source": [
    "# Mike's hypothesis ends here"
   ]
  },
  {
   "cell_type": "code",
   "execution_count": null,
   "metadata": {},
   "outputs": [],
   "source": [
    "# Roberts's regression starts here"
   ]
  },
  {
   "cell_type": "code",
   "execution_count": null,
   "metadata": {},
   "outputs": [],
   "source": [
    "# Robert's regression ends here"
   ]
  },
  {
   "cell_type": "markdown",
   "metadata": {},
   "source": [
    "## Discussion"
   ]
  },
  {
   "cell_type": "markdown",
   "metadata": {},
   "source": [
    "## Post Mortem"
   ]
  },
  {
   "cell_type": "markdown",
   "metadata": {},
   "source": [
    "## Questions"
   ]
  }
 ],
 "metadata": {
  "kernelspec": {
   "display_name": "Python 3",
   "language": "python",
   "name": "python3"
  },
  "language_info": {
   "codemirror_mode": {
    "name": "ipython",
    "version": 3
   },
   "file_extension": ".py",
   "mimetype": "text/x-python",
   "name": "python",
   "nbconvert_exporter": "python",
   "pygments_lexer": "ipython3",
   "version": "3.6.10"
  }
 },
 "nbformat": 4,
 "nbformat_minor": 4
}
