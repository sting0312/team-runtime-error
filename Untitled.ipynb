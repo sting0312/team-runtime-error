{
 "cells": [
  {
   "cell_type": "code",
   "execution_count": 1,
   "metadata": {},
   "outputs": [],
   "source": [
    "#Import packages\n",
    "import pandas as pd\n",
    "import requests\n",
    "import json\n",
    "\n",
    "from config import map_key"
   ]
  },
  {
   "cell_type": "code",
   "execution_count": null,
   "metadata": {},
   "outputs": [],
   "source": [
    "\"http://www.mapquestapi.com/geocoding/v1/reverse?key=****KEYHERE****&location=44.805157,-92.913040&includeRoadMetadata=true&includeNearestIntersection=true\"\n",
    "\n",
    "\n",
    "\n",
    "\n"
   ]
  },
  {
   "cell_type": "code",
   "execution_count": null,
   "metadata": {},
   "outputs": [],
   "source": []
  },
  {
   "cell_type": "code",
   "execution_count": 6,
   "metadata": {},
   "outputs": [
    {
     "data": {
      "text/plain": [
       "{'info': {'statuscode': 0,\n",
       "  'copyright': {'text': '© 2021 MapQuest, Inc.',\n",
       "   'imageUrl': 'http://api.mqcdn.com/res/mqlogo.gif',\n",
       "   'imageAltText': '© 2021 MapQuest, Inc.'},\n",
       "  'messages': []},\n",
       " 'options': {'maxResults': 1, 'thumbMaps': True, 'ignoreLatLngInput': False},\n",
       " 'results': [{'providedLocation': {'latLng': {'lat': 44.805157,\n",
       "     'lng': -92.91304}},\n",
       "   'locations': [{'street': 'US-10 E',\n",
       "     'adminArea6': '',\n",
       "     'adminArea6Type': 'Neighborhood',\n",
       "     'adminArea5': 'Cottage Grove',\n",
       "     'adminArea5Type': 'City',\n",
       "     'adminArea4': 'Washington',\n",
       "     'adminArea4Type': 'County',\n",
       "     'adminArea3': 'MN',\n",
       "     'adminArea3Type': 'State',\n",
       "     'adminArea1': 'US',\n",
       "     'adminArea1Type': 'Country',\n",
       "     'postalCode': '55016',\n",
       "     'geocodeQualityCode': 'B1AAA',\n",
       "     'geocodeQuality': 'STREET',\n",
       "     'dragPoint': False,\n",
       "     'sideOfStreet': 'R',\n",
       "     'linkId': '0',\n",
       "     'unknownInput': '',\n",
       "     'type': 's',\n",
       "     'latLng': {'lat': 44.805159, 'lng': -92.913039},\n",
       "     'displayLatLng': {'lat': 44.805159, 'lng': -92.913039},\n",
       "     'mapUrl': 'http://www.mapquestapi.com/staticmap/v5/map?key=b1Tjdkx4uIy8R2ta1wjSdpyqSYfWdQ9G&type=map&size=225,160&locations=44.80515929346401,-92.91303899991506|marker-sm-50318A-1&scalebar=true&zoom=15&rand=76368980',\n",
       "     'nearestIntersection': {'streetDisplayName': 'Keats Ave S',\n",
       "      'distanceMeters': '1180.015335105205',\n",
       "      'latLng': {'longitude': -92.903457, 'latitude': 44.800626},\n",
       "      'label': 'US-10 E & Keats Ave S'},\n",
       "     'roadMetadata': {'speedLimitUnits': 'mph',\n",
       "      'tollRoad': None,\n",
       "      'speedLimit': 65}}]}]}"
      ]
     },
     "execution_count": 6,
     "metadata": {},
     "output_type": "execute_result"
    }
   ],
   "source": [
    "google_path = (44.9778, 93.2650)\n",
    "params = {'Key': map_key,\n",
    "         'Location' : google_path}\n",
    "\n",
    "base_url = f\"http://www.mapquestapi.com/geocoding/v1/reverse?key={map_key}&location=44.805157,-92.913040&includeRoadMetadata=true&includeNearestIntersection=true\"\n",
    "\n",
    "\n",
    "response = requests.get(f'{base_url}&{map_key}')\n",
    "    \n",
    "roads_data = response.json()\n",
    "    \n",
    "roads_data"
   ]
  },
  {
   "cell_type": "code",
   "execution_count": 13,
   "metadata": {},
   "outputs": [
    {
     "ename": "KeyError",
     "evalue": "'speedLimit'",
     "output_type": "error",
     "traceback": [
      "\u001b[0;31m---------------------------------------------------------------------------\u001b[0m",
      "\u001b[0;31mKeyError\u001b[0m                                  Traceback (most recent call last)",
      "\u001b[0;32m<ipython-input-13-ff7c36672b8a>\u001b[0m in \u001b[0;36m<module>\u001b[0;34m\u001b[0m\n\u001b[0;32m----> 1\u001b[0;31m \u001b[0mspeedlimit\u001b[0m \u001b[0;34m=\u001b[0m \u001b[0mroads_data\u001b[0m\u001b[0;34m[\u001b[0m\u001b[0;34m'results'\u001b[0m\u001b[0;34m]\u001b[0m\u001b[0;34m[\u001b[0m\u001b[0;36m0\u001b[0m\u001b[0;34m]\u001b[0m\u001b[0;34m[\u001b[0m\u001b[0;34m'locations'\u001b[0m\u001b[0;34m]\u001b[0m\u001b[0;34m[\u001b[0m\u001b[0;36m0\u001b[0m\u001b[0;34m]\u001b[0m\u001b[0;34m[\u001b[0m\u001b[0;34m'speedLimit'\u001b[0m\u001b[0;34m]\u001b[0m\u001b[0;34m\u001b[0m\u001b[0;34m\u001b[0m\u001b[0m\n\u001b[0m\u001b[1;32m      2\u001b[0m \u001b[0mspeedlimit\u001b[0m\u001b[0;34m\u001b[0m\u001b[0;34m\u001b[0m\u001b[0m\n",
      "\u001b[0;31mKeyError\u001b[0m: 'speedLimit'"
     ]
    }
   ],
   "source": [
    "speedlimit = roads_data['results'][0]['locations'][0]['speedLimit']\n",
    "speedlimit"
   ]
  },
  {
   "cell_type": "code",
   "execution_count": null,
   "metadata": {},
   "outputs": [],
   "source": []
  }
 ],
 "metadata": {
  "kernelspec": {
   "display_name": "Python 3",
   "language": "python",
   "name": "python3"
  },
  "language_info": {
   "codemirror_mode": {
    "name": "ipython",
    "version": 3
   },
   "file_extension": ".py",
   "mimetype": "text/x-python",
   "name": "python",
   "nbconvert_exporter": "python",
   "pygments_lexer": "ipython3",
   "version": "3.6.10"
  }
 },
 "nbformat": 4,
 "nbformat_minor": 4
}
