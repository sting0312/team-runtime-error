{
 "cells": [
  {
   "cell_type": "code",
   "execution_count": null,
   "metadata": {},
   "outputs": [],
   "source": [
    "# Dependencies and Setup\n",
    "import matplotlib.pyplot as plt\n",
    "import pandas as pd\n",
    "import numpy as np\n",
    "import requests\n",
    "import gmaps\n",
    "import time\n",
    "import os\n",
    "from scipy.stats import linregress\n",
    "from citipy import citipy\n",
    "import scipy.stats as stats\n",
    "from config import gkey"
  
   ]
  },
  {
   "cell_type": "code",
   "execution_count": null,
   "metadata": {},
   "outputs": [],
   "source": [
    "#Robert's code for importing csv\n",
    "file = 'Resources/MN_Accidents_Dec20.csv'\n",
    "df = pd.read_csv(file)\n",
    "df\n"
   ]
  },
  {
   "cell_type": "code",
   "execution_count": null,
   "metadata": {},
   "outputs": [],
   "source": [
    "#delete all unneccesary columns\n",
    "df = df.drop([\"Source\",\"End_Lat\",\"End_Lng\",\"Distance(mi)\",\"Side\",\"Zipcode\",\"Country\",\"Timezone\",\"Airport_Code\",\n",
    "              \"Weather_Timestamp\",\"Wind_Chill(F)\",\"Humidity(%)\",\"Pressure(in)\",\"Wind_Direction\",\"Wind_Speed(mph)\",\n",
    "              \"Precipitation(in)\",\"Amenity\",\"Bump\",\"Crossing\",\"Give_Way\",\"Junction\",\"No_Exit\",\"Railway\",\"Roundabout\",\n",
    "              \"Station\",\"Stop\",\"Traffic_Calming\",\"Turning_Loop\",\"Sunrise_Sunset\",\"Civil_Twilight\",\"Nautical_Twilight\",\n",
    "              \"Astronomical_Twilight\"], axis=1)\n"
   ]
  },
  {
   "cell_type": "code",
   "execution_count": null,
   "metadata": {},
   "outputs": [],
   "source": [
    "df.head()"
   ]
  },
  {
   "cell_type": "code",
   "execution_count": null,
   "metadata": {},
   "outputs": [],
   "source": [
    "#df.head()\n",
    "#change start time object into datetime format for filtering\n",
    "df['Start_Time'] = pd.to_datetime(df['Start_Time'])\n",
    "df.dtypes"
   ]
  },
  {
   "cell_type": "markdown",
   "metadata": {},
   "source": [
    "### Severity\n",
    "Shows the severity of the accident, a number between 1 and 4, where 1 indicates the least impact on traffic (i.e., short delay as a result of the accident) and 4 indicates a significant impact on traffic (i.e., long delay). Note that severity reported by different sources may differ in their underlying impact on traffic, so please separate data from different sources when doing severity-based analysis."
   ]
  },
  {
   "cell_type": "code",
   "execution_count": null,
   "metadata": {},
   "outputs": [],
   "source": [
    "# Remove all dates outside of year 2020\n",
    "# 42,442 rows\n",
    "df_2020 = df[(df[\"Start_Time\"] >= '2020-1-1') & (df[\"Start_Time\"] <= '2020-12-31')]\n",
    "df_2020.describe()"
   ]
  },
  {
   "cell_type": "code",
   "execution_count": null,
   "metadata": {},
   "outputs": [],
   "source": [
    "# Create a DataFrame with all severity 4 (1 to 4)\n",
    "# 172 rows\n",
    "df_2020_severe4 = df_2020.loc[(df_2020[\"Severity\"] == 4)]\n",
    "df_2020_severe4.describe()"
   ]
  },
  {
   "cell_type": "code",
   "execution_count": null,
   "metadata": {},
   "outputs": [],
   "source": [
    "# Create a DataFrame with all severity 3 (1 to 4)\n",
    "# 3,265 rows\n",
    "df_2020_severe3 = df_2020.loc[(df_2020[\"Severity\"] == 3)]\n",
    "df_2020_severe3.describe()"
   ]
  },
  {
   "cell_type": "code",
   "execution_count": null,
   "metadata": {},
   "outputs": [],
   "source": [
    "# Create a DataFrame with all severity 2 (1 to 4)\n",
    "# 38,972 rows\n",
    "df_2020_severe2 = df_2020.loc[(df_2020[\"Severity\"] == 2)]\n",
    "df_2020_severe2.describe()"
   ]
  },
  {
   "cell_type": "code",
   "execution_count": null,
   "metadata": {},
   "outputs": [],
   "source": [
    "# Create a DataFrame with all severity 1 (1 to 4)\n",
    "# 33 rows\n",
    "df_2020_severe1 = df_2020.loc[(df_2020[\"Severity\"] == 1)]\n",
    "df_2020_severe1.describe()"
   ]
  },
  {
   "cell_type": "markdown",
   "metadata": {},
   "source": [
    "### Break up the 2020 Dataframe into 4 parts"
   ]
  },
  {
   "cell_type": "code",
   "execution_count": null,
   "metadata": {},
   "outputs": [],
   "source": [
    "# Break up the 2020 DataFrame into 4 parts (1 of 4) and write to .csv\n",
    "# 10,610 rows\n",
    "df_1 = df_2020.iloc[0:10611,:]\n",
    "df_1.to_csv(r'Resources\\df_1.csv', index=False)\n",
    "df_1.describe()"
   ]
  },
  {
   "cell_type": "code",
   "execution_count": null,
   "metadata": {},
   "outputs": [],
   "source": [
    "# Break up the 2020 DataFrame into 4 parts (2 of 4) and write to .csv\n",
    "# 10,610 rows\n",
    "df_2 = df_2020.iloc[10610:21222,:]\n",
    "df_2.to_csv(r'Resources\\df_2.csv', index=False)\n",
    "df_2.describe()"
   ]
  },
  {
   "cell_type": "code",
   "execution_count": null,
   "metadata": {},
   "outputs": [],
   "source": [
    "# Break up the 2020 DataFrame into 4 parts (3 of 4) and write to .csv\n",
    "# 10,610 rows\n",
    "df_3 = df_2020.iloc[21221:31833,:]\n",
    "df_3.to_csv(r'Resources\\df_3.csv', index=False)\n",
    "df_3.describe()"
   ]
  },
  {
   "cell_type": "code",
   "execution_count": null,
   "metadata": {},
   "outputs": [],
   "source": [
    "# Break up the 2020 DataFrame into 4 parts (4 of 4) and write to .csv\n",
    "# 10,609 rows\n",
    "df_4 = df_2020.iloc[31832:42443,:]\n",
    "df_4.to_csv(r'Resources\\df_4.csv', index=False)\n",
    "df_4.describe()"
   ]
  },
  {
   "cell_type": "markdown",
   "metadata": {},
   "source": [
    "### Combine speed limit data into a single dataframe and save as .csv file"
   ]
  },
  {
   "cell_type": "code",
   "execution_count": null,
   "metadata": {},
   "outputs": [],
   "source": [
    "# data files\n",
    "data_file_list = [\"Resources/df_1WithSpeed.csv\",\n",
    "                  \"Resources/df_2WithSpeed.csv\",\n",
    "                  \"Resources/df_3WithSpeed.csv\",\n",
    "                  \"Resources/df_4WithSpeed.csv\"]\n",
    "\n",
    "# list to store dataframes\n",
    "list_of_df = []\n",
    "\n",
    "# iterate through csv files and create list of dataframes\n",
    "for filename in data_file_list:\n",
    "    list_of_df.append(pd.read_csv(filename))\n",
    "\n",
    "# combine dataframes in list to single dataframe\n",
    "combined_data = pd.concat(list_of_df)\n",
    "\n",
    "# drop nan's from speed limit column and drop unnamed column\n",
    "combined_data.dropna(subset=[\"Speed Limit\"], inplace=True)\n",
    "combined_data.drop(\"Unnamed: 0\", axis=1, inplace=True)\n",
    "\n",
    "# create final data csv file\n",
    "combined_data.to_csv(\"Resources/AccidentDataWithSpeed.csv\", index=False)"
   ]
  },
  {
   "cell_type": "markdown",
   "metadata": {},
   "source": [
    "# Data Visualization\n",
    "\n",
    "### Create bar graphs to show the speed limit and accident severity accidents"
   ]
  },
  {
   "cell_type": "code",
   "execution_count": null,
   "metadata": {},
   "outputs": [],
   "source": [
    "#Jon's bar graphs start here"
   ]
  },
  {
   "cell_type": "code",
   "execution_count": null,
   "metadata": {},
   "outputs": [],
   "source": [
    "# import .csv and convert to df\n",
    "file = 'Resources/AccidentDataWithSpeed.csv'\n",
    "speeddf = pd.read_csv(file)\n",
    "#speeddf\n",
    "\n",
    "# Groupby speed limit and severity\n",
    "count = speeddf.groupby([\"Severity\", \"Speed Limit\"]).count()[\"ID\"]\n",
    "count"
   ]
  },
  {
   "cell_type": "markdown",
   "metadata": {},
   "source": [
    "### Search for "
   ]
  },
  {
   "cell_type": "code",
   "execution_count": null,
   "metadata": {},
   "outputs": [],
   "source": [
    "# Import warnings to ignore future warning\n",
    "import warnings\n",
    "warnings.simplefilter(action='ignore', category=FutureWarning)\n",
    "\n",
    "# Check for: 202(Q) serious accident(s)\n",
    "#new_df = speeddf.loc[(speeddf[\"TMC\"] == \"202(Q)\")] \n",
    "#new_df # ---> 0 findings\n",
    "\n",
    "# Check for: 344 accident investigation work\n",
    "new_df = speeddf.loc[(speeddf[\"TMC\"] == \"344\")]\n",
    "new_df # ---> 0 findings"
   ]
  },
  {
   "cell_type": "code",
   "execution_count": null,
   "metadata": {},
   "outputs": [],
   "source": [
    "speeds = speeddf[\"Speed Limit\"].unique()\n",
    "# [20, 25, 30, 35, 40, 45, 50, 55, 60, 65, 70]\n",
    "#speeds"
   ]
  },
  {
   "cell_type": "code",
   "execution_count": null,
   "metadata": {},
   "outputs": [],
   "source": []
  },
  {
   "cell_type": "markdown",
   "metadata": {},
   "source": [
    "### Bar Graph (Severity 1)"
   ]
  },
  {
   "cell_type": "code",
   "execution_count": null,
   "metadata": {},
   "outputs": [],
   "source": [
    "# Plot bargraph\n",
    "# Example found: https://python-graph-gallery.com/11-grouped-barplot/\n",
    "\n",
    "# Set height of bars\n",
    "sev1 = [0, 0, 0, 2, 0, 0, 1, 14, 9, 4, 0]\n",
    "\n",
    "# Set width of bar\n",
    "barwidth = 0.5\n",
    "\n",
    "# Set position of bar\n",
    "r1 = np.arange(len(sev1))\n",
    "\n",
    "# Make the plot\n",
    "plt.bar(r1, sev1, width=barwidth, edgecolor='white', label='Severity 1 (of 4)', color='blue')\n",
    "\n",
    "# Add xticks to the middle of group bars\n",
    "plt.xlabel(\"Speed Limits\", fontweight='bold')\n",
    "plt.xticks([r for r in range(len(sev1))], ['20mph', '25mph', '30mph', '35mph', '40mph', '45mph',\n",
    "                                                         '50mph', '55mph', '60mph', '65mph', '70mph'], rotation=90)\n",
    "\n",
    "# Add ylabel and graph title\n",
    "plt.ylabel(\"Number of Traffic Accidents\", fontweight='bold')\n",
    "plt.title(\"Minnesota Traffic Accidents By Severity and MPH Zones\", fontweight='bold')\n",
    "\n",
    "# Create legend and show graph\n",
    "plt.legend()\n",
    "plt.show()"
   ]
  },
  {
   "cell_type": "markdown",
   "metadata": {},
   "source": [
    "### Bar Graph (Severity 2)"
   ]
  },
  {
   "cell_type": "code",
   "execution_count": null,
   "metadata": {},
   "outputs": [],
   "source": [
    "# Plot bargraph\n",
    "# Example found: https://python-graph-gallery.com/11-grouped-barplot/\n",
    "\n",
    "# Set height of bars\n",
    "sev2 = [1, 10, 2247, 680, 1109, 1378, 1118, 8319, 8894, 5037, 6813]\n",
    "\n",
    "# Set width of bar\n",
    "barwidth = 0.5\n",
    "\n",
    "# Set position of bar\n",
    "r1 = np.arange(len(sev2))\n",
    "\n",
    "# Make the plot\n",
    "plt.bar(r1, sev2, width=barwidth, edgecolor='white', label='Severity 2 (of 4)', color='orange')\n",
    "\n",
    "# Add xticks to the middle of group bars\n",
    "plt.xlabel(\"Speed Limits\", fontweight='bold')\n",
    "plt.xticks([r for r in range(len(sev2))], ['20mph', '25mph', '30mph', '35mph', '40mph', '45mph',\n",
    "                                                         '50mph', '55mph', '60mph', '65mph', '70mph'], rotation=90)\n",
    "\n",
    "# Add ylabel and graph title\n",
    "plt.ylabel(\"Number of Traffic Accidents\", fontweight='bold')\n",
    "plt.title(\"Minnesota Traffic Accidents By Severity and MPH Zones\", fontweight='bold')\n",
    "\n",
    "# Create legend and show graph\n",
    "plt.legend()\n",
    "plt.show()"
   ]
  },
  {
   "cell_type": "markdown",
   "metadata": {},
   "source": [
    "### Bar Graph (Severity 3)"
   ]
  },
  {
   "cell_type": "code",
   "execution_count": null,
   "metadata": {},
   "outputs": [],
   "source": [
    "# Plot bargraph\n",
    "# Example found: https://python-graph-gallery.com/11-grouped-barplot/\n",
    "\n",
    "# Set height of bars\n",
    "sev3 = [0, 0, 259, 78, 116, 162, 64, 900, 776, 246, 442]\n",
    "\n",
    "# Set width of bar\n",
    "barwidth = 0.5\n",
    "\n",
    "# Set position of bar\n",
    "r1 = np.arange(len(sev3))\n",
    "\n",
    "# Make the plot\n",
    "plt.bar(r1, sev3, width=barwidth, edgecolor='white', label='Severity 3 (of 4)', color='green')\n",
    "\n",
    "# Add xticks to the middle of group bars\n",
    "plt.xlabel(\"Speed Limits\", fontweight='bold')\n",
    "plt.xticks([r for r in range(len(sev3))], ['20mph', '25mph', '30mph', '35mph', '40mph', '45mph',\n",
    "                                                         '50mph', '55mph', '60mph', '65mph', '70mph'], rotation=90)\n",
    "\n",
    "# Add ylabel and graph title\n",
    "plt.ylabel(\"Number of Traffic Accidents\", fontweight='bold')\n",
    "plt.title(\"Minnesota Traffic Accidents By Severity and MPH Zones\", fontweight='bold')\n",
    "\n",
    "# Create legend and show graph\n",
    "plt.legend()\n",
    "plt.show()"
   ]
  },
  {
   "cell_type": "markdown",
   "metadata": {},
   "source": [
    "### Bar Graph (Severity 4)"
   ]
  },
  {
   "cell_type": "code",
   "execution_count": null,
   "metadata": {},
   "outputs": [],
   "source": [
    "# Plot bargraph\n",
    "# Example found: https://python-graph-gallery.com/11-grouped-barplot/\n",
    "\n",
    "# Set height of bars\n",
    "sev4 = [0, 0, 2, 2, 7, 2, 6, 78, 27, 9, 21]\n",
    "\n",
    "# Set width of bar\n",
    "barwidth = 0.5\n",
    "\n",
    "# Set position of bar\n",
    "r1 = np.arange(len(sev4))\n",
    "\n",
    "# Make the plot\n",
    "plt.bar(r1, sev3, width=barwidth, edgecolor='white', label='Severity 4 (of 4)', color='red')\n",
    "\n",
    "# Add xticks to the middle of group bars\n",
    "plt.xlabel(\"Speed Limits\", fontweight='bold')\n",
    "plt.xticks([r for r in range(len(sev4))], ['20mph', '25mph', '30mph', '35mph', '40mph', '45mph',\n",
    "                                                         '50mph', '55mph', '60mph', '65mph', '70mph'], rotation=90)\n",
    "\n",
    "# Add ylabel and graph title\n",
    "plt.ylabel(\"Number of Traffic Accidents\", fontweight='bold')\n",
    "plt.title(\"Minnesota Traffic Accidents By Severity and MPH Zones\", fontweight='bold')\n",
    "\n",
    "# Create legend and show graph\n",
    "plt.legend()\n",
    "plt.show()"
   ]
  },
  {
   "cell_type": "markdown",
   "metadata": {},
   "source": [
    "### Bar Graph (Severity 1-4)"
   ]
  },
  {
   "cell_type": "code",
   "execution_count": null,
   "metadata": {},
   "outputs": [],
   "source": [
    "# Plot bargraph\n",
    "# Example found: https://python-graph-gallery.com/11-grouped-barplot/\n",
    "# Set width of bar\n",
    "barWidth = 0.3\n",
    "\n",
    "# Set height of bars\n",
    "sev1 = [0, 0, 0, 2, 0, 0, 1, 14, 9, 4, 0]\n",
    "sev2 = [1, 10, 2247, 680, 1109, 1378, 1118, 8319, 8894, 5037, 6813]\n",
    "sev3 = [0, 0, 259, 78, 116, 162, 64, 900, 776, 246, 442]\n",
    "sev4 = [0, 0, 2, 2, 7, 2, 6, 78, 27, 9, 21]\n",
    "\n",
    "# Set position of bar\n",
    "r1 = np.arange(len(sev1))\n",
    "r2 = [x + barWidth for x in r1]\n",
    "r3 = [x + barWidth for x in r2]\n",
    "r4 = [x + barWidth for x in r3]\n",
    "\n",
    "# Make the plot\n",
    "plt.bar(r1, sev1, width=barWidth, edgecolor='white', label='Severity 1')\n",
    "plt.bar(r2, sev2, width=barWidth, edgecolor='white', label='Severity 2')\n",
    "plt.bar(r3, sev3, width=barWidth, edgecolor='white', label='Severity 3')\n",
    "plt.bar(r4, sev4, width=barWidth, edgecolor='white', label='Severity 4')\n",
    "\n",
    "# Add xticks to the middle of group bars\n",
    "plt.xlabel(\"Speed Limits\", fontweight='bold')\n",
    "plt.xticks([r + barWidth for r in range(len(sev1))], ['20mph', '25mph', '30mph', '35mph', '40mph', '45mph',\n",
    "                                                      '50mph', '55mph', '60mph', '65mph', '70mph'], rotation=90)\n",
    "# Add ylabel and graph title\n",
    "plt.ylabel(\"Number of Traffic Accidents\", fontweight='bold')\n",
    "plt.title(\"Minnesota Traffic Accidents By Severity and MPH Zones\", fontweight='bold')\n",
    "\n",
    "# Create legend and show graph\n",
    "plt.legend()\n",
    "plt.show()"
   ]
  },
  {
   "cell_type": "markdown",
   "metadata": {},
   "source": [
    "### Stacked Bar Graph (Severity 1-4)"
   ]
  },
  {
   "cell_type": "code",
   "execution_count": null,
   "metadata": {},
   "outputs": [],
   "source": [
    "# Example found: https://pbpython.com/simple-graphing-pandas.html\n",
    "# Groupby speed limit and severity\n",
    "count = speeddf.groupby([\"Speed Limit\", \"Severity\"]).count()[\"ID\"]\n",
    "\n",
    "# Use unstack to break the data apart for graphing and view \n",
    "count.unstack().head\n",
    "\n",
    "# Create the graph\n",
    "my_plot = count.unstack().plot(kind='bar', stacked=True, title= 'Minnesota Traffic Accidents By Severity and MPH Zones')\n",
    "my_plot.set_xlabel('Speed Limits')\n",
    "my_plot.set_ylabel('Number of Traffic Accidents')\n",
    "plt.show()"
   ]
  },
  {
   "cell_type": "markdown",
   "metadata": {},
   "source": [
    "### Pie Chart (Severity 1)"
   ]
  },
  {
   "cell_type": "code",
   "execution_count": null,
   "metadata": {},
   "outputs": [],
   "source": [
    "# Set list of speed limits\n",
    "speeds = ['35mph', '50mph', '55mph', '60mph', '65mph']\n",
    "\n",
    "# Set list of accident numbers at each speed\n",
    "sev1 = [2, 1, 14, 9, 4,]\n",
    "\n",
    "# Plot the pie chart\n",
    "plt.ylabel(\"Speed Limit\")\n",
    "plt.title(\"Distribution of Severity 1 Traffic Accidents\")\n",
    "plt.pie(sev1, labels= speeds, startangle= 0)\n",
    "plt.show()"
   ]
  },
  {
   "cell_type": "markdown",
   "metadata": {},
   "source": [
    "### Pie Chart (Severity 2)"
   ]
  },
  {
   "cell_type": "code",
   "execution_count": null,
   "metadata": {},
   "outputs": [],
   "source": [
    "# Set list of speed limits\n",
    "speeds2 = ['25mph', '30mph', '35mph', '40mph', '45mph',\n",
    "          '50mph', '55mph', '60mph', '65mph', '70mph']\n",
    "\n",
    "# Set list of accident numbers at each speed\n",
    "sev2 = [10, 2247, 680, 1109, 1378, 1118, 8319, 8894, 5037, 6813]\n",
    "\n",
    "# Plot the pie chart\n",
    "plt.ylabel(\"Speed Limit\")\n",
    "plt.title(\"Distribution of Severity 2 Traffic Accidents\")\n",
    "plt.pie(sev2, labels= speeds2, startangle= -50)\n",
    "plt.show()"
   ]
  },
  {
   "cell_type": "markdown",
   "metadata": {},
   "source": [
    "### Pie Chart (Severity 3)"
   ]
  },
  {
   "cell_type": "code",
   "execution_count": null,
   "metadata": {},
   "outputs": [],
   "source": [
    "# Set list of speed limits\n",
    "speeds3 = ['30mph', '35mph', '40mph', '45mph',\n",
    "          '50mph', '55mph', '60mph', '65mph', '70mph']\n",
    "\n",
    "# Set list of accident numbers at each speed\n",
    "sev3 = [259, 78, 116, 162, 64, 900, 776, 246, 442]\n",
    "\n",
    "# Plot the pie chart\n",
    "plt.ylabel(\"Speed Limit\")\n",
    "plt.title(\"Distribution of Severity 3 Traffic Accidents\")\n",
    "plt.pie(sev3, labels= speeds3, startangle= -10)\n",
    "plt.show()"
   ]
  },
  {
   "cell_type": "markdown",
   "metadata": {},
   "source": [
    "### Pie Chart (Severity 4)"
   ]
  },
  {
   "cell_type": "code",
   "execution_count": null,
   "metadata": {},
   "outputs": [],
   "source": [
    "# Set list of speed limits\n",
    "speeds4 = ['30mph', '35mph', '40mph', '45mph',\n",
    "          '50mph', '55mph', '60mph', '65mph', '70mph']\n",
    "\n",
    "# Set list of accident numbers at each speed\n",
    "sev4 = [2, 2, 7, 2, 6, 78, 27, 9, 21]\n",
    "\n",
    "# Plot the pie chart\n",
    "plt.ylabel(\"Speed Limit\")\n",
    "plt.title(\"Distribution of Severity 4 Traffic Accidents\")\n",
    "plt.pie(sev4, labels= speeds4, startangle= 0)\n",
    "plt.show()"
   ]
  },
  {
   "cell_type": "code",
   "execution_count": null,
   "metadata": {},
   "outputs": [],
   "source": [
    "#Jon's bar graphs end here"
   ]
  },
  {
   "cell_type": "code",
   "execution_count": null,
   "metadata": {},
   "outputs": [],
   "source": [
    "#Calvin's gmaps start here"
   ]
  },
  {
   "cell_type": "code",
   "execution_count": null,
   "metadata": {},
   "outputs": [],
   "source": [
    "gmaps.configure(api_key=gkey)\n",
    " # Store 'Lat' and 'Lng' into  locations \n",
    "locations = df[[\"Start_Lat\", \"Start_Lng\"]].astype(float)\n",
    "fig = gmaps.figure()\n",
    "\n",
    "heat_layer = gmaps.heatmap_layer(locations, weights=scatterdf['Severity'], \n",
    "                                 dissipating=False, max_intensity=.9\n",
    "                                 ,\n",
    "                                 point_radius = .3)\n",
    "fig.add_layer(heat_layer)\n",
    "\n",
    "fig"
   ]
  },
  {
   "cell_type": "code",
   "execution_count": null,
   "metadata": {},
   "outputs": [],
   "source": [
    "#Calvin's gmap ends here\n",
    "\n",
    "\n",
    "\n",
    "\n"
   ]
  },
  {
   "cell_type": "code",
   "execution_count": null,
   "metadata": {},
   "outputs": [],
   "source": [
    "#Robert's regression analysis starts here"
   ]
  },
  {
   "cell_type": "code",
   "execution_count": null,
   "metadata": {},
   "outputs": [],
   "source": [
    "file = 'Resources/AccidentDataWithSpeed.csv'\n",
    "scatterdf = pd.read_csv(file)"
   ]
  },
  {
   "cell_type": "code",
   "execution_count": null,
   "metadata": {},
   "outputs": [],
   "source": [
    "scatterdf"
   ]
  },
  {
   "cell_type": "code",
   "execution_count": null,
   "metadata": {},
   "outputs": [],
   "source": []
  },
  {
   "cell_type": "code",
   "execution_count": null,
   "metadata": {},
   "outputs": [],
   "source": [
    "#x_axis = scatterdf[\"Speed Limit\"]\n",
    "#y_axis = list(scatterdf.index)\n",
    "count2 = scatterdf.groupby([\"Speed Limit\"])\n",
    "#y_axis = count2[\"Speed Limit\"].count"
   ]
  },
  {
   "cell_type": "code",
   "execution_count": null,
   "metadata": {},
   "outputs": [],
   "source": [
    "count2 = count2.count().reset_index()"
   ]
  },
  {
   "cell_type": "code",
   "execution_count": null,
   "metadata": {},
   "outputs": [],
   "source": [
    "x_axis = count2[\"Speed Limit\"]\n",
    "y_axis = count2[\"ID\"]"
   ]
  },
  {
   "cell_type": "code",
   "execution_count": null,
   "metadata": {},
   "outputs": [],
   "source": []
  },
  {
   "cell_type": "code",
   "execution_count": null,
   "metadata": {},
   "outputs": [],
   "source": [
    "plt.title(\"Number of Incidents by Speed Limit on Road\")\n",
    "plt.xlabel(\"Speed Limit\")\n",
    "plt.ylabel(\"Number of Accidents\")\n",
    "plt.scatter(x_axis, y_axis, edgecolors = \"black\", marker=\"o\", color=\"red\")"
   ]
  },
  {
   "cell_type": "code",
   "execution_count": null,
   "metadata": {},
   "outputs": [],
   "source": [
    "plt.title(\"Number of Incidents by Speed Limit on Road\")\n",
    "plt.xlabel(\"Speed Limit\")\n",
    "plt.ylabel(\"Number of Accidents\")\n",
    "plt.scatter(x_axis, y_axis, s= count2[\"Severity\"], edgecolors= \"black\", marker=\"o\", color=\"red\")"
   ]
  },
  {
   "cell_type": "code",
   "execution_count": null,
   "metadata": {},
   "outputs": [],
   "source": [
    "(slope, intercept, rvalue, pvalue, stderr) = linregress(x_axis, y_axis)\n",
    "regress_values = x_axis * slope + intercept\n",
    "line_eq = \"y = \" + str(round(slope,2)) + \"x + \" + str(round(intercept,2))\n",
    "plt.plot(x_axis,regress_values,\"b-\",)\n",
    "plt.annotate(line_eq,(20,8000),fontsize=15,color=\"blue\")\n",
    "plt.annotate(round(rvalue**2,2),(20,7000),fontsize=15,color=\"blue\")\n",
    "plt.title(\"Number of Incidents by Speed Limit on Road\")\n",
    "plt.xlabel(\"Speed Limit\")\n",
    "plt.ylabel(\"Number of Accidents\")\n",
    "plt.scatter(x_axis, y_axis, edgecolors = \"black\", marker=\"o\", color=\"red\")"
   ]
  },
  {
   "cell_type": "code",
   "execution_count": null,
   "metadata": {},
   "outputs": [],
   "source": [
    "print(rvalue**2)"
   ]
  },
  {
   "cell_type": "code",
   "execution_count": null,
   "metadata": {
    "scrolled": true
   },
   "outputs": [],
   "source": [
    "count3 = scatterdf.groupby([\"Severity\"])\n",
    "count3.count()"
   ]
  },
  {
   "cell_type": "code",
   "execution_count": null,
   "metadata": {},
   "outputs": [],
   "source": [
    "# Set list of speed limits\n",
    "SeverityCount = ['Severity 1', 'Severity 2', 'Severity 4', 'Severity 3']\n",
    "\n",
    "# Set list of accident numbers at each speed\n",
    "SevCount = [30, 35606, 154, 3043,]\n",
    "explode = (0.3, 0, 0, 0)\n",
    "# Plot the pie chart\n",
    "plt.title(\"Distribution of Total Accidents by Severity\")\n",
    "plt.pie(SevCount, labels= SeverityCount, explode= explode, startangle= -10)\n",
    "plt.show()"
   ]
  },
  {
   "cell_type": "code",
   "execution_count": null,
   "metadata": {},
   "outputs": [],
   "source": [
    "#Robert's regression ends here"
   ]
  },
  {
   "cell_type": "code",
   "execution_count": null,
   "metadata": {},
   "outputs": [],
   "source": [
    "#Mike can do some cool stuff here"
   ]
  },
  {
   "cell_type": "code",
   "execution_count": null,
   "metadata": {},
   "outputs": [],
   "source": [
    "# bring in data from csv file\n",
    "accident_data = pd.read_csv(\"Resources/AccidentDataWithSpeed.csv\")\n",
    "accident_data.head()"
   ]
  },
  {
   "cell_type": "code",
   "execution_count": null,
   "metadata": {},
   "outputs": [],
   "source": [
    "# group data by speed limit and get count of accidents per speed limit\n",
    "speed_group = accident_data.groupby(\"Severity\")\n",
    "speed_count = speed_group.count().reset_index()\n",
    "speed_count"
   ]
  },
  {
   "cell_type": "code",
   "execution_count": null,
   "metadata": {},
   "outputs": [],
   "source": [
    "# group data by speed limit and get count of accidents per speed limit\n",
    "speed_group = accident_data.groupby(\"Speed Limit\")\n",
    "speed_count = speed_group.count().reset_index()\n",
    "speed_count"
   ]
  },
  {
   "cell_type": "code",
   "execution_count": null,
   "metadata": {},
   "outputs": [],
   "source": [
    "# place data into binned categories for hypothesis test\n",
    "bins = [20, 35, 50, 70]\n",
    "bin_labels = [\"20-35\", \"35-50\", \">50\"]\n",
    "\n",
    "speed_count[\"Bin\"] = pd.cut(speed_count[\"Speed Limit\"], bins, labels=bin_labels, include_lowest=True)\n",
    "speed_count"
   ]
  },
  {
   "cell_type": "code",
   "execution_count": null,
   "metadata": {},
   "outputs": [],
   "source": [
    "# calculate average number of accidents in each speed limit bin\n",
    "speed_bin_group = speed_count.groupby(\"Bin\")\n",
    "speed_bin_group.mean()"
   ]
  },
  {
   "cell_type": "code",
   "execution_count": null,
   "metadata": {},
   "outputs": [],
   "source": [
    "# place binned data into group variables for ANOVA test\n",
    "group1 = speed_count[speed_count[\"Bin\"] == \"20-35\"][\"ID\"]\n",
    "group2 = speed_count[speed_count[\"Bin\"] == \"35-50\"][\"ID\"]\n",
    "group3 = speed_count[speed_count[\"Bin\"] == \">50\"][\"ID\"]\n",
    "\n",
    "\n",
    "# perform ANOVA test\n",
    "p_value = stats.f_oneway(group1, group2, group3)\n",
    "print(f\"p-value = {p_value[1]}\")"
   ]
  },
  {
   "cell_type": "code",
   "execution_count": null,
   "metadata": {},
   "outputs": [],
   "source": [
    "# create box plot of data\n",
    "speed_count.boxplot(\"ID\", by=\"Bin\", figsize=(20,10))\n",
    "plt.title(\"Accident Box Plot\")\n",
    "plt.xlabel(\"Speed Limits\")\n",
    "plt.ylabel(\"Count of Accidents\")\n",
    "plt.show()"
   ]
  },
  {
   "cell_type": "code",
   "execution_count": null,
   "metadata": {},
   "outputs": [],
   "source": [
    "#mike can stop doing cool stuff here"
   ]
  },
  {
   "cell_type": "code",
   "execution_count": null,
   "metadata": {},
   "outputs": [],
   "source": []
  },
  {
   "cell_type": "code",
   "execution_count": null,
   "metadata": {},
   "outputs": [],
   "source": []
  },
  {
   "cell_type": "code",
   "execution_count": null,
   "metadata": {},
   "outputs": [],
   "source": []
  },
  {
   "cell_type": "code",
   "execution_count": null,
   "metadata": {},
   "outputs": [],
   "source": []
  },
  {
   "cell_type": "code",
   "execution_count": null,
   "metadata": {},
   "outputs": [],
   "source": []
  }
 ],
 "metadata": {
  "kernelspec": {
   "display_name": "Python 3",
   "language": "python",
   "name": "python3"
  },
  "language_info": {
   "codemirror_mode": {
    "name": "ipython",
    "version": 3
   },
   "file_extension": ".py",
   "mimetype": "text/x-python",
   "name": "python",
   "nbconvert_exporter": "python",
   "pygments_lexer": "ipython3",
   "version": "3.6.10"
  }
 },
 "nbformat": 4,
 "nbformat_minor": 4
}
