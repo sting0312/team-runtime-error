{
 "cells": [
  {
   "cell_type": "code",
   "execution_count": null,
   "metadata": {},
   "outputs": [],
   "source": [
    "import pandas as pd"
   ]
  },
  {
   "cell_type": "code",
   "execution_count": null,
   "metadata": {},
   "outputs": [],
   "source": [
    "#Robert's code for importing csv\n",
    "file = 'Resources/MN_Accidents_Dec20.csv'\n",
    "df = pd.read_csv(file)\n",
    "df.head()\n"
   ]
  },
  {
   "cell_type": "code",
   "execution_count": null,
   "metadata": {},
   "outputs": [],
   "source": [
    "#delete all unneccesary columns\n",
    "df = df.drop([\"Source\",\"End_Lat\",\"End_Lng\",\"Distance(mi)\",\"Side\",\"Zipcode\",\"Country\",\"Timezone\",\"Airport_Code\",\"Weather_Timestamp\",\"Wind_Chill(F)\",\"Humidity(%)\",\"Pressure(in)\",\"Wind_Direction\",\"Wind_Speed(mph)\",\"Precipitation(in)\",\"Amenity\",\"Bump\",\"Crossing\",\"Give_Way\",\"Junction\",\"No_Exit\",\"Railway\",\"Roundabout\",\"Station\",\"Stop\",\"Traffic_Calming\",\"Turning_Loop\",\"Sunrise_Sunset\",\"Civil_Twilight\",\"Nautical_Twilight\",\"Astronomical_Twilight\"], axis=1)\n"
   ]
  },
  {
   "cell_type": "code",
   "execution_count": null,
   "metadata": {},
   "outputs": [],
   "source": [
    "df.head()"
   ]
  },
  {
   "cell_type": "code",
   "execution_count": null,
   "metadata": {},
   "outputs": [],
   "source": [
    "#df.head()\n",
    "#change start time object into datetime format for filtering\n",
    "df['Start_Time'] = pd.to_datetime(df['Start_Time'])\n",
    "df.dtypes"
   ]
  },
  {
   "cell_type": "code",
   "execution_count": null,
   "metadata": {},
   "outputs": [],
   "source": [
    "# Jon's code begins here"
   ]
  },
  {
   "cell_type": "markdown",
   "metadata": {},
   "source": [
    "### Severity\n",
    "Shows the severity of the accident, a number between 1 and 4, where 1 indicates the least impact on traffic (i.e., short delay as a result of the accident) and 4 indicates a significant impact on traffic (i.e., long delay). Note that severity reported by different sources may differ in their underlying impact on traffic, so please separate data from different sources when doing severity-based analysis."
   ]
  },
  {
   "cell_type": "code",
   "execution_count": null,
   "metadata": {},
   "outputs": [],
   "source": [
    "# Remove all dates outside of year 2020\n",
    "# 42,442 rows\n",
    "df_2020 = df[(df[\"Start_Time\"] >= '2020-1-1') & (df[\"Start_Time\"] <= '2020-12-31')]\n",
    "df_2020.describe()"
   ]
  },
  {
   "cell_type": "code",
   "execution_count": null,
   "metadata": {},
   "outputs": [],
   "source": [
    "# Create a DataFrame with all severity 4 (1 to 4)\n",
    "# 172 rows\n",
    "df_2020_severe4 = df_2020.loc[(df_2020[\"Severity\"] == 4)]\n",
    "df_2020_severe4.describe()"
   ]
  },
  {
   "cell_type": "code",
   "execution_count": null,
   "metadata": {},
   "outputs": [],
   "source": [
    "# Create a DataFrame with all severity 3 (1 to 4)\n",
    "# 3,265 rows\n",
    "df_2020_severe3 = df_2020.loc[(df_2020[\"Severity\"] == 3)]\n",
    "df_2020_severe3.describe()"
   ]
  },
  {
   "cell_type": "code",
   "execution_count": null,
   "metadata": {},
   "outputs": [],
   "source": [
    "# Create a DataFrame with all severity 2 (1 to 4)\n",
    "# 38,972 rows\n",
    "df_2020_severe2 = df_2020.loc[(df_2020[\"Severity\"] == 2)]\n",
    "df_2020_severe2.describe()"
   ]
  },
  {
   "cell_type": "code",
   "execution_count": null,
   "metadata": {},
   "outputs": [],
   "source": [
    "# Create a DataFrame with all severity 1 (1 to 4)\n",
    "# 33 rows\n",
    "df_2020_severe1 = df_2020.loc[(df_2020[\"Severity\"] == 1)]\n",
    "df_2020_severe1.describe()"
   ]
  },
  {
   "cell_type": "code",
   "execution_count": null,
   "metadata": {},
   "outputs": [],
   "source": [
    "# Jon's code ends here"
   ]
  }
 ],
 "metadata": {
  "kernelspec": {
   "display_name": "Python 3",
   "language": "python",
   "name": "python3"
  },
  "language_info": {
   "codemirror_mode": {
    "name": "ipython",
    "version": 3
   },
   "file_extension": ".py",
   "mimetype": "text/x-python",
   "name": "python",
   "nbconvert_exporter": "python",
   "pygments_lexer": "ipython3",
   "version": "3.6.10"
  }
 },
 "nbformat": 4,
 "nbformat_minor": 4
}
