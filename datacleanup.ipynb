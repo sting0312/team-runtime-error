{
 "cells": [
  {
   "cell_type": "code",
   "execution_count": null,
   "metadata": {},
   "outputs": [],
   "source": [
    "import pandas as pd"
   ]
  },
  {
   "cell_type": "code",
   "execution_count": null,
   "metadata": {},
   "outputs": [],
   "source": [
    "#Robert's code for importing csv\n",
    "file = 'Resources/MN_Accidents_Dec20.csv'\n",
    "df = pd.read_csv(file)\n",
    "df.head()\n"
   ]
  },
  {
   "cell_type": "code",
   "execution_count": null,
   "metadata": {},
   "outputs": [],
   "source": [
    "#delete all unneccesary columns\n",
    "df = df.drop([\"Source\",\"End_Lat\",\"End_Lng\",\"Distance(mi)\",\"Side\",\"Zipcode\",\"Country\",\"Timezone\",\"Airport_Code\",\"Weather_Timestamp\",\"Wind_Chill(F)\",\"Humidity(%)\",\"Pressure(in)\",\"Wind_Direction\",\"Wind_Speed(mph)\",\"Precipitation(in)\",\"Amenity\",\"Bump\",\"Crossing\",\"Give_Way\",\"Junction\",\"No_Exit\",\"Railway\",\"Roundabout\",\"Station\",\"Stop\",\"Traffic_Calming\",\"Turning_Loop\",\"Sunrise_Sunset\",\"Civil_Twilight\",\"Nautical_Twilight\",\"Astronomical_Twilight\"], axis=1)\n"
   ]
  },
  {
   "cell_type": "code",
   "execution_count": null,
   "metadata": {},
   "outputs": [],
   "source": [
    "df.head()"
   ]
  },
  {
   "cell_type": "code",
   "execution_count": null,
   "metadata": {},
   "outputs": [],
   "source": [
    "#df.head()\n",
    "#change start time object into datetime format for filtering\n",
    "df['Start_Time'] = pd.to_datetime(df['Start_Time'])\n",
    "df.dtypes"
   ]
  },
  {
   "cell_type": "code",
   "execution_count": null,
   "metadata": {},
   "outputs": [],
   "source": [
    "# Jon's code begins here"
   ]
  },
  {
   "cell_type": "markdown",
   "metadata": {},
   "source": [
    "### Severity\n",
    "Shows the severity of the accident, a number between 1 and 4, where 1 indicates the least impact on traffic (i.e., short delay as a result of the accident) and 4 indicates a significant impact on traffic (i.e., long delay). Note that severity reported by different sources may differ in their underlying impact on traffic, so please separate data from different sources when doing severity-based analysis."
   ]
  },
  {
   "cell_type": "code",
   "execution_count": null,
   "metadata": {},
   "outputs": [],
   "source": [
    "# Remove all dates outside of year 2020\n",
    "# 42,442 rows\n",
    "df_2020 = df[(df[\"Start_Time\"] >= '2020-1-1') & (df[\"Start_Time\"] <= '2020-12-31')]\n",
    "df_2020.describe()"
   ]
  },
  {
   "cell_type": "code",
   "execution_count": null,
   "metadata": {},
   "outputs": [],
   "source": [
    "# Create a DataFrame with all severity 4 (1 to 4)\n",
    "# 172 rows\n",
    "df_2020_severe4 = df_2020.loc[(df_2020[\"Severity\"] == 4)]\n",
    "df_2020_severe4.describe()"
   ]
  },
  {
   "cell_type": "code",
   "execution_count": null,
   "metadata": {},
   "outputs": [],
   "source": [
    "# Create a DataFrame with all severity 3 (1 to 4)\n",
    "# 3,265 rows\n",
    "df_2020_severe3 = df_2020.loc[(df_2020[\"Severity\"] == 3)]\n",
    "df_2020_severe3.describe()"
   ]
  },
  {
   "cell_type": "code",
   "execution_count": null,
   "metadata": {},
   "outputs": [],
   "source": [
    "# Create a DataFrame with all severity 2 (1 to 4)\n",
    "# 38,972 rows\n",
    "df_2020_severe2 = df_2020.loc[(df_2020[\"Severity\"] == 2)]\n",
    "df_2020_severe2.describe()"
   ]
  },
  {
   "cell_type": "code",
   "execution_count": null,
   "metadata": {},
   "outputs": [],
   "source": [
    "# Create a DataFrame with all severity 1 (1 to 4)\n",
    "# 33 rows\n",
    "df_2020_severe1 = df_2020.loc[(df_2020[\"Severity\"] == 1)]\n",
    "df_2020_severe1.describe()"
   ]
  },
  {
   "cell_type": "code",
   "execution_count": null,
   "metadata": {},
   "outputs": [],
   "source": [
    "# Break up the 2020 DataFrame into 4 parts (1 of 4) and write to .csv\n",
    "# 10,610 rows\n",
    "df_1 = df_2020.iloc[0:10610,:]\n",
    "df_1.to_csv(r'Resources\\df_1.csv', index=False)\n",
    "df_1.describe()"
   ]
  },
  {
   "cell_type": "code",
   "execution_count": null,
   "metadata": {},
   "outputs": [],
   "source": [
    "# Break up the 2020 DataFrame into 4 parts (2 of 4) and write to .csv\n",
    "# 10,610 rows\n",
    "df_2 = df_2020.iloc[10611:21221,:]\n",
    "df_2.to_csv(r'Resources\\df_2.csv', index=False)\n",
    "df_2.describe()"
   ]
  },
  {
   "cell_type": "code",
   "execution_count": null,
   "metadata": {},
   "outputs": [],
   "source": [
    "# Break up the 2020 DataFrame into 4 parts (3 of 4) and write to .csv\n",
    "# 10,610 rows\n",
    "df_3 = df_2020.iloc[21222:31832,:]\n",
    "df_3.to_csv(r'Resources\\df_3.csv', index=False)\n",
    "df_3.describe()"
   ]
  },
  {
   "cell_type": "code",
   "execution_count": null,
   "metadata": {},
   "outputs": [],
   "source": [
    "# Break up the 2020 DataFrame into 4 parts (4 of 4) and write to .csv\n",
    "# 10,609 rows\n",
    "df_4 = df_2020.iloc[31833:42442,:]\n",
    "df_4.to_csv(r'Resources\\df_4.csv', index=False)\n",
    "df_4.describe()"
   ]
  },
  {
   "cell_type": "markdown",
   "metadata": {},
   "source": [
    "### Combine speed limit data into a single dataframe and save as .csv file"
   ]
  },
  {
   "cell_type": "code",
   "execution_count": null,
   "metadata": {},
   "outputs": [],
   "source": [
    "# data files\n",
    "data_file_list = [\"Resources/df_1WithSpeed.csv\",\n",
    "                  \"Resources/df_2WithSpeed.csv\",\n",
    "                  \"Resources/df_3WithSpeed.csv\",\n",
    "                  \"Resources/df_4WithSpeed.csv\"]\n",
    "\n",
    "# list to store dataframes\n",
    "list_of_df = []\n",
    "\n",
    "# iterate through csv files and create list of dataframes\n",
    "for filename in data_file_list:\n",
    "    list_of_df.append(pd.read_csv(filename))\n",
    "\n",
    "# combine dataframes in list to single dataframe\n",
    "combined_data = pd.concat(list_of_df)\n",
    "\n",
    "# drop nan's from speed limit column and drop unnamed column\n",
    "combined_data.dropna(subset=[\"Speed Limit\"], inplace=True)\n",
    "combined_data.drop(\"Unnamed: 0\", axis=1, inplace=True)\n",
    "\n",
    "# create final data csv file\n",
    "combined_data.to_csv(\"Resources/AccedentDataWithSpeed.csv\", index=False)"
   ]
  },
  {
   "cell_type": "code",
   "execution_count": null,
   "metadata": {},
   "outputs": [],
   "source": [
    "# Jon's code ends here"
   ]
  },
  {
   "cell_type": "code",
   "execution_count": null,
   "metadata": {},
   "outputs": [],
   "source": [
    "#Jon's bar graphs start here"
   ]
  },
  {
   "cell_type": "code",
   "execution_count": null,
   "metadata": {},
   "outputs": [],
   "source": []
  },
  {
   "cell_type": "code",
   "execution_count": null,
   "metadata": {},
   "outputs": [],
   "source": [
    "#Jon's bar graphs end here"
   ]
  },
  {
   "cell_type": "code",
   "execution_count": null,
   "metadata": {},
   "outputs": [],
   "source": [
    "#Calvin's gmaps start here"
   ]
  },
  {
   "cell_type": "code",
   "execution_count": null,
   "metadata": {},
   "outputs": [],
   "source": []
  },
  {
   "cell_type": "code",
   "execution_count": null,
   "metadata": {},
   "outputs": [],
   "source": [
    "#Calvin's gmap ends here"
   ]
  },
  {
   "cell_type": "code",
   "execution_count": null,
   "metadata": {},
   "outputs": [],
   "source": [
    "#Robert's regression analysis starts here"
   ]
  },
  {
   "cell_type": "code",
   "execution_count": null,
   "metadata": {},
   "outputs": [],
   "source": []
  },
  {
   "cell_type": "code",
   "execution_count": null,
   "metadata": {},
   "outputs": [],
   "source": [
    "#Robert's regression ends here"
   ]
  },
  {
   "cell_type": "code",
   "execution_count": null,
   "metadata": {},
   "outputs": [],
   "source": [
    "#Mike can do some cool stuff here"
   ]
  },
  {
   "cell_type": "code",
   "execution_count": null,
   "metadata": {},
   "outputs": [],
   "source": []
  },
  {
   "cell_type": "code",
   "execution_count": null,
   "metadata": {},
   "outputs": [],
   "source": [
    "#mike can stop doing cool stuff here"
   ]
  }
 ],
 "metadata": {
  "kernelspec": {
   "display_name": "Python 3",
   "language": "python",
   "name": "python3"
  },
  "language_info": {
   "codemirror_mode": {
    "name": "ipython",
    "version": 3
   },
   "file_extension": ".py",
   "mimetype": "text/x-python",
   "name": "python",
   "nbconvert_exporter": "python",
   "pygments_lexer": "ipython3",
   "version": "3.6.10"
  }
 },
 "nbformat": 4,
 "nbformat_minor": 4
}
