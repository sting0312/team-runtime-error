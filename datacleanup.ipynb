{
 "cells": [
  {
   "cell_type": "code",
   "execution_count": null,
   "metadata": {},
   "outputs": [],
   "source": [
    "# Dependencies and Setup\n",
    "import matplotlib.pyplot as plt\n",
    "import pandas as pd\n",
    "import numpy as np\n",
    "import requests\n",
    "import gmaps\n",
    "import time\n",
    "import os\n",
    "from scipy.stats import linregress\n",
    "from citipy import citipy"
   ]
  },
  {
   "cell_type": "code",
   "execution_count": null,
   "metadata": {},
   "outputs": [],
   "source": [
    "#Robert's code for importing csv\n",
    "file = 'Resources/MN_Accidents_Dec20.csv'\n",
    "df = pd.read_csv(file)\n",
    "df.head()\n"
   ]
  },
  {
   "cell_type": "code",
   "execution_count": null,
   "metadata": {},
   "outputs": [],
   "source": [
    "#delete all unneccesary columns\n",
    "df = df.drop([\"Source\",\"End_Lat\",\"End_Lng\",\"Distance(mi)\",\"Side\",\"Zipcode\",\"Country\",\"Timezone\",\"Airport_Code\",\"Weather_Timestamp\",\"Wind_Chill(F)\",\"Humidity(%)\",\"Pressure(in)\",\"Wind_Direction\",\"Wind_Speed(mph)\",\"Precipitation(in)\",\"Amenity\",\"Bump\",\"Crossing\",\"Give_Way\",\"Junction\",\"No_Exit\",\"Railway\",\"Roundabout\",\"Station\",\"Stop\",\"Traffic_Calming\",\"Turning_Loop\",\"Sunrise_Sunset\",\"Civil_Twilight\",\"Nautical_Twilight\",\"Astronomical_Twilight\"], axis=1)\n"
   ]
  },
  {
   "cell_type": "code",
   "execution_count": null,
   "metadata": {},
   "outputs": [],
   "source": [
    "df.head()"
   ]
  },
  {
   "cell_type": "code",
   "execution_count": null,
   "metadata": {},
   "outputs": [],
   "source": [
    "#df.head()\n",
    "#change start time object into datetime format for filtering\n",
    "df['Start_Time'] = pd.to_datetime(df['Start_Time'])\n",
    "df.dtypes"
   ]
  },
  {
   "cell_type": "markdown",
   "metadata": {},
   "source": [
    "### Severity\n",
    "Shows the severity of the accident, a number between 1 and 4, where 1 indicates the least impact on traffic (i.e., short delay as a result of the accident) and 4 indicates a significant impact on traffic (i.e., long delay). Note that severity reported by different sources may differ in their underlying impact on traffic, so please separate data from different sources when doing severity-based analysis."
   ]
  },
  {
   "cell_type": "code",
   "execution_count": null,
   "metadata": {},
   "outputs": [],
   "source": [
    "# Remove all dates outside of year 2020\n",
    "# 42,442 rows\n",
    "df_2020 = df[(df[\"Start_Time\"] >= '2020-1-1') & (df[\"Start_Time\"] <= '2020-12-31')]\n",
    "df_2020.describe()"
   ]
  },
  {
   "cell_type": "code",
   "execution_count": null,
   "metadata": {},
   "outputs": [],
   "source": [
    "# Create a DataFrame with all severity 4 (1 to 4)\n",
    "# 172 rows\n",
    "df_2020_severe4 = df_2020.loc[(df_2020[\"Severity\"] == 4)]\n",
    "df_2020_severe4.describe()"
   ]
  },
  {
   "cell_type": "code",
   "execution_count": null,
   "metadata": {},
   "outputs": [],
   "source": [
    "# Create a DataFrame with all severity 3 (1 to 4)\n",
    "# 3,265 rows\n",
    "df_2020_severe3 = df_2020.loc[(df_2020[\"Severity\"] == 3)]\n",
    "df_2020_severe3.describe()"
   ]
  },
  {
   "cell_type": "code",
   "execution_count": null,
   "metadata": {},
   "outputs": [],
   "source": [
    "# Create a DataFrame with all severity 2 (1 to 4)\n",
    "# 38,972 rows\n",
    "df_2020_severe2 = df_2020.loc[(df_2020[\"Severity\"] == 2)]\n",
    "df_2020_severe2.describe()"
   ]
  },
  {
   "cell_type": "code",
   "execution_count": null,
   "metadata": {},
   "outputs": [],
   "source": [
    "# Create a DataFrame with all severity 1 (1 to 4)\n",
    "# 33 rows\n",
    "df_2020_severe1 = df_2020.loc[(df_2020[\"Severity\"] == 1)]\n",
    "df_2020_severe1.describe()"
   ]
  },
  {
   "cell_type": "markdown",
   "metadata": {},
   "source": [
    "### Break up the 2020 Dataframe into 4 parts"
   ]
  },
  {
   "cell_type": "code",
   "execution_count": null,
   "metadata": {},
   "outputs": [],
   "source": [
    "# Break up the 2020 DataFrame into 4 parts (1 of 4) and write to .csv\n",
    "# 10,610 rows\n",
    "df_1 = df_2020.iloc[0:10610,:]\n",
    "df_1.to_csv(r'Resources\\df_1.csv', index=False)\n",
    "df_1.describe()"
   ]
  },
  {
   "cell_type": "code",
   "execution_count": null,
   "metadata": {},
   "outputs": [],
   "source": [
    "# Break up the 2020 DataFrame into 4 parts (2 of 4) and write to .csv\n",
    "# 10,610 rows\n",
    "df_2 = df_2020.iloc[10611:21221,:]\n",
    "df_2.to_csv(r'Resources\\df_2.csv', index=False)\n",
    "df_2.describe()"
   ]
  },
  {
   "cell_type": "code",
   "execution_count": null,
   "metadata": {},
   "outputs": [],
   "source": [
    "# Break up the 2020 DataFrame into 4 parts (3 of 4) and write to .csv\n",
    "# 10,610 rows\n",
    "df_3 = df_2020.iloc[21222:31832,:]\n",
    "df_3.to_csv(r'Resources\\df_3.csv', index=False)\n",
    "df_3.describe()"
   ]
  },
  {
   "cell_type": "code",
   "execution_count": null,
   "metadata": {},
   "outputs": [],
   "source": [
    "# Break up the 2020 DataFrame into 4 parts (4 of 4) and write to .csv\n",
    "# 10,609 rows\n",
    "df_4 = df_2020.iloc[31833:42442,:]\n",
    "df_4.to_csv(r'Resources\\df_4.csv', index=False)\n",
    "df_4.describe()"
   ]
  },
  {
   "cell_type": "markdown",
   "metadata": {},
   "source": [
    "### Combine speed limit data into a single dataframe and save as .csv file"
   ]
  },
  {
   "cell_type": "code",
   "execution_count": null,
   "metadata": {},
   "outputs": [],
   "source": [
    "# data files\n",
    "data_file_list = [\"Resources/df_1WithSpeed.csv\",\n",
    "                  \"Resources/df_2WithSpeed.csv\",\n",
    "                  \"Resources/df_3WithSpeed.csv\",\n",
    "                  \"Resources/df_4WithSpeed.csv\"]\n",
    "\n",
    "# list to store dataframes\n",
    "list_of_df = []\n",
    "\n",
    "# iterate through csv files and create list of dataframes\n",
    "for filename in data_file_list:\n",
    "    list_of_df.append(pd.read_csv(filename))\n",
    "\n",
    "# combine dataframes in list to single dataframe\n",
    "combined_data = pd.concat(list_of_df)\n",
    "\n",
    "# drop nan's from speed limit column and drop unnamed column\n",
    "combined_data.dropna(subset=[\"Speed Limit\"], inplace=True)\n",
    "combined_data.drop(\"Unnamed: 0\", axis=1, inplace=True)\n",
    "\n",
    "# create final data csv file\n",
    "combined_data.to_csv(\"Resources/AccidentDataWithSpeed.csv\", index=False)"
   ]
  },
  {
   "cell_type": "markdown",
   "metadata": {},
   "source": [
    "# Data Visualization\n",
    "\n",
    "### Create bar graphs to show the speed limit and accident severity accidents"
   ]
  },
  {
   "cell_type": "code",
   "execution_count": null,
   "metadata": {},
   "outputs": [],
   "source": [
    "#Jon's bar graphs start here"
   ]
  },
  {
   "cell_type": "code",
   "execution_count": null,
   "metadata": {},
   "outputs": [],
   "source": [
    "# import .csv and convert to df\n",
    "file = 'Resources/AccidentDataWithSpeed.csv'\n",
    "speeddf = pd.read_csv(file)\n",
    "#speeddf\n",
    "\n",
    "# Groupby speed limit and severity\n",
    "count = speeddf.groupby([\"Severity\", \"Speed Limit\"]).count()[\"ID\"]\n",
    "count"
   ]
  },
  {
   "cell_type": "code",
   "execution_count": null,
   "metadata": {},
   "outputs": [],
   "source": [
    "speeds = speeddf[\"Speed Limit\"].unique()\n",
    "# [20, 25, 30, 35, 40, 45, 50, 55, 60, 65, 70]\n",
    "#speeds"
   ]
  },
  {
   "cell_type": "markdown",
   "metadata": {},
   "source": [
    "### Bar Graph (Severity 1 & 2 Combined)"
   ]
  },
  {
   "cell_type": "code",
   "execution_count": null,
   "metadata": {},
   "outputs": [],
   "source": [
    "# Plot bargraph\n",
    "# Example found: https://python-graph-gallery.com/11-grouped-barplot/\n",
    "\n",
    "# Set height of bars\n",
    "low_sev = [1, 10, 2247, 682, 1109, 1378, 1119, 8333, 8903, 5041, 6813]\n",
    "\n",
    "# Set width of bar\n",
    "barwidth = 0.5\n",
    "\n",
    "# Set position of bar\n",
    "r1 = np.arange(len(low_sev))\n",
    "\n",
    "# Make the plot\n",
    "plt.bar(r1, low_sev, width=barwidth, edgecolor='white', label='Severity 1 & 2 (of 4)', color='orange')\n",
    "\n",
    "# Add xticks to the middle of group bars\n",
    "plt.xlabel(\"Speed Limits\", fontweight='bold')\n",
    "plt.xticks([r for r in range(len(low_sev))], ['20mph', '25mph', '30mph', '35mph', '40mph', '45mph',\n",
    "                                                         '50mph', '55mph', '60mph', '65mph', '70mph'], rotation=90)\n",
    "\n",
    "# Add ylabel and graph title\n",
    "plt.ylabel(\"Number of Traffic Accidents\", fontweight='bold')\n",
    "plt.title(\"Minnesota Traffic Accidents By Severity and MPH Zones\", fontweight='bold')\n",
    "\n",
    "# Create legend and show graph\n",
    "plt.legend()\n",
    "plt.show()"
   ]
  },
  {
   "cell_type": "markdown",
   "metadata": {},
   "source": [
    "### Bar Graph (Severity 3)"
   ]
  },
  {
   "cell_type": "code",
   "execution_count": null,
   "metadata": {},
   "outputs": [],
   "source": [
    "# Plot bargraph\n",
    "# Example found: https://python-graph-gallery.com/11-grouped-barplot/\n",
    "\n",
    "# Set height of bars\n",
    "sev3 = [0, 0, 259, 78, 116, 162, 64, 900, 776, 246, 442]\n",
    "\n",
    "# Set width of bar\n",
    "barwidth = 0.5\n",
    "\n",
    "# Set position of bar\n",
    "r1 = np.arange(len(sev3))\n",
    "\n",
    "# Make the plot\n",
    "plt.bar(r1, sev3, width=barwidth, edgecolor='white', label='Severity 3 (of 4)', color='green')\n",
    "\n",
    "# Add xticks to the middle of group bars\n",
    "plt.xlabel(\"Speed Limits\", fontweight='bold')\n",
    "plt.xticks([r for r in range(len(sev3))], ['20mph', '25mph', '30mph', '35mph', '40mph', '45mph',\n",
    "                                                         '50mph', '55mph', '60mph', '65mph', '70mph'], rotation=90)\n",
    "\n",
    "# Add ylabel and graph title\n",
    "plt.ylabel(\"Number of Traffic Accidents\", fontweight='bold')\n",
    "plt.title(\"Minnesota Traffic Accidents By Severity and MPH Zones\", fontweight='bold')\n",
    "\n",
    "# Create legend and show graph\n",
    "plt.legend()\n",
    "plt.show()"
   ]
  },
  {
   "cell_type": "markdown",
   "metadata": {},
   "source": [
    "### Bar Graph (Severity 4)"
   ]
  },
  {
   "cell_type": "code",
   "execution_count": null,
   "metadata": {},
   "outputs": [],
   "source": [
    "# Plot bargraph\n",
    "# Example found: https://python-graph-gallery.com/11-grouped-barplot/\n",
    "\n",
    "# Set height of bars\n",
    "sev4 = [0, 0, 2, 2, 7, 2, 6, 78, 27, 9, 21]\n",
    "\n",
    "# Set width of bar\n",
    "barwidth = 0.5\n",
    "\n",
    "# Set position of bar\n",
    "r1 = np.arange(len(sev4))\n",
    "\n",
    "# Make the plot\n",
    "plt.bar(r1, sev3, width=barwidth, edgecolor='white', label='Severity 4 (of 4)', color='red')\n",
    "\n",
    "# Add xticks to the middle of group bars\n",
    "plt.xlabel(\"Speed Limits\", fontweight='bold')\n",
    "plt.xticks([r for r in range(len(sev4))], ['20mph', '25mph', '30mph', '35mph', '40mph', '45mph',\n",
    "                                                         '50mph', '55mph', '60mph', '65mph', '70mph'], rotation=90)\n",
    "\n",
    "# Add ylabel and graph title\n",
    "plt.ylabel(\"Number of Traffic Accidents\", fontweight='bold')\n",
    "plt.title(\"Minnesota Traffic Accidents By Severity and MPH Zones\", fontweight='bold')\n",
    "\n",
    "# Create legend and show graph\n",
    "plt.legend()\n",
    "plt.show()"
   ]
  },
  {
   "cell_type": "markdown",
   "metadata": {},
   "source": [
    "### Bar Graph (Severity 1-4)"
   ]
  },
  {
   "cell_type": "code",
   "execution_count": null,
   "metadata": {},
   "outputs": [],
   "source": [
    "# Plot bargraph\n",
    "# Example found: https://python-graph-gallery.com/11-grouped-barplot/\n",
    "# Set width of bar\n",
    "barWidth = 0.3\n",
    "\n",
    "# Set height of bars\n",
    "sev1 = [0, 0, 0, 2, 0, 0, 1, 14, 9, 4, 0]\n",
    "sev2 = [1, 10, 2247, 680, 1109, 1378, 1118, 8319, 8894, 5037, 6813]\n",
    "sev3 = [0, 0, 259, 78, 116, 162, 64, 900, 776, 246, 442]\n",
    "sev4 = [0, 0, 2, 2, 7, 2, 6, 78, 27, 9, 21]\n",
    "\n",
    "# Set position of bar\n",
    "r1 = np.arange(len(sev1))\n",
    "r2 = [x + barWidth for x in r1]\n",
    "r3 = [x + barWidth for x in r2]\n",
    "r4 = [x + barWidth for x in r3]\n",
    "\n",
    "# Make the plot\n",
    "plt.bar(r1, sev1, width=barWidth, edgecolor='white', label='Severity 1')\n",
    "plt.bar(r2, sev2, width=barWidth, edgecolor='white', label='Severity 2')\n",
    "plt.bar(r3, sev3, width=barWidth, edgecolor='white', label='Severity 3')\n",
    "plt.bar(r4, sev4, width=barWidth, edgecolor='white', label='Severity 4')\n",
    "\n",
    "# Add xticks to the middle of group bars\n",
    "plt.xlabel(\"Speed Limits\", fontweight='bold')\n",
    "plt.xticks([r + barWidth for r in range(len(sev1))], ['20mph', '25mph', '30mph', '35mph', '40mph', '45mph',\n",
    "                                                      '50mph', '55mph', '60mph', '65mph', '70mph'], rotation=90)\n",
    "# Add ylabel and graph title\n",
    "plt.ylabel(\"Number of Traffic Accidents\", fontweight='bold')\n",
    "plt.title(\"Minnesota Traffic Accidents By Severity and MPH Zones\", fontweight='bold')\n",
    "\n",
    "# Create legend and show graph\n",
    "plt.legend()\n",
    "plt.show()"
   ]
  },
  {
   "cell_type": "code",
   "execution_count": null,
   "metadata": {},
   "outputs": [],
   "source": [
    "#Jon's bar graphs end here"
   ]
  },
  {
   "cell_type": "code",
   "execution_count": null,
   "metadata": {},
   "outputs": [],
   "source": [
    "#Calvin's gmaps start here"
   ]
  },
  {
   "cell_type": "code",
   "execution_count": null,
   "metadata": {},
   "outputs": [],
   "source": []
  },
  {
   "cell_type": "code",
   "execution_count": null,
   "metadata": {},
   "outputs": [],
   "source": [
    "#Calvin's gmap ends here"
   ]
  },
  {
   "cell_type": "code",
   "execution_count": null,
   "metadata": {},
   "outputs": [],
   "source": [
    "#Robert's regression analysis starts here"
   ]
  },
  {
   "cell_type": "code",
   "execution_count": null,
   "metadata": {},
   "outputs": [],
   "source": []
  },
  {
   "cell_type": "code",
   "execution_count": null,
   "metadata": {},
   "outputs": [],
   "source": [
    "#Robert's regression ends here"
   ]
  },
  {
   "cell_type": "code",
   "execution_count": null,
   "metadata": {},
   "outputs": [],
   "source": [
    "#Mike can do some cool stuff here"
   ]
  },
  {
   "cell_type": "code",
   "execution_count": null,
   "metadata": {},
   "outputs": [],
   "source": []
  },
  {
   "cell_type": "code",
   "execution_count": null,
   "metadata": {},
   "outputs": [],
   "source": [
    "#mike can stop doing cool stuff here"
   ]
  }
 ],
 "metadata": {
  "kernelspec": {
   "display_name": "Python 3",
   "language": "python",
   "name": "python3"
  },
  "language_info": {
   "codemirror_mode": {
    "name": "ipython",
    "version": 3
   },
   "file_extension": ".py",
   "mimetype": "text/x-python",
   "name": "python",
   "nbconvert_exporter": "python",
   "pygments_lexer": "ipython3",
   "version": "3.6.10"
  }
 },
 "nbformat": 4,
 "nbformat_minor": 4
}
